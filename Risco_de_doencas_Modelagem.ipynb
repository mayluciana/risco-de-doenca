{
 "cells": [
  {
   "cell_type": "markdown",
   "metadata": {
    "application/vnd.databricks.v1+cell": {
     "cellMetadata": {},
     "inputWidgets": {},
     "nuid": "180b3428-6e2a-4e56-b353-8b941f2250db",
     "showTitle": false,
     "tableResultSettingsMap": {},
     "title": ""
    }
   },
   "source": [
    "##Base de Dados\n",
    "\n",
    "**Risco de doenças devido a hábitos diários**\n",
    "\n",
    "Um rico conjunto de dados com indicadores de estilo de vida, biométricos, comportamentais e demográficos\n",
    "\n",
    "A base contém 10000 linhas e 48 colunas, contendo tipos de dados: Numéricos, categóricos, ordinais .\n",
    "\n"
   ]
  },
  {
   "cell_type": "markdown",
   "metadata": {
    "application/vnd.databricks.v1+cell": {
     "cellMetadata": {},
     "inputWidgets": {},
     "nuid": "50f03d36-4ef6-4897-af6c-191d7d63b21d",
     "showTitle": false,
     "tableResultSettingsMap": {},
     "title": ""
    }
   },
   "source": [
    "#Conectando a base de dados \n",
    "\n",
    "Para coleta dos dados utilizei a biblioteca kagglehub para automatizar o download do dataset diretamnete do Kaggle. Esse processo garante que a versão mais recente do conjunto de dados seja baixada diretamente para o ambiente de trabalho, facilitando a organização e o carregamento dos arquivos nos próximos passos da análise."
   ]
  },
  {
   "cell_type": "code",
   "execution_count": 0,
   "metadata": {
    "application/vnd.databricks.v1+cell": {
     "cellMetadata": {
      "byteLimit": 2048000,
      "rowLimit": 10000
     },
     "collapsed": true,
     "inputWidgets": {},
     "nuid": "7aa45af7-d31f-441e-a713-43862212f0a4",
     "showTitle": false,
     "tableResultSettingsMap": {},
     "title": ""
    }
   },
   "outputs": [
    {
     "output_type": "stream",
     "name": "stdout",
     "output_type": "stream",
     "text": [
      "Python interpreter will be restarted.\nCollecting kagglehub\n  Using cached kagglehub-0.3.12-py3-none-any.whl (67 kB)\nCollecting pyyaml\n  Using cached PyYAML-6.0.2-cp39-cp39-manylinux_2_17_x86_64.manylinux2014_x86_64.whl (737 kB)\nRequirement already satisfied: packaging in /databricks/python3/lib/python3.9/site-packages (from kagglehub) (21.3)\nCollecting tqdm\n  Using cached tqdm-4.67.1-py3-none-any.whl (78 kB)\nRequirement already satisfied: requests in /databricks/python3/lib/python3.9/site-packages (from kagglehub) (2.27.1)\nRequirement already satisfied: pyparsing!=3.0.5,>=2.0.2 in /databricks/python3/lib/python3.9/site-packages (from packaging->kagglehub) (3.0.4)\nRequirement already satisfied: charset-normalizer~=2.0.0 in /databricks/python3/lib/python3.9/site-packages (from requests->kagglehub) (2.0.4)\nRequirement already satisfied: idna<4,>=2.5 in /databricks/python3/lib/python3.9/site-packages (from requests->kagglehub) (3.3)\nRequirement already satisfied: certifi>=2017.4.17 in /databricks/python3/lib/python3.9/site-packages (from requests->kagglehub) (2021.10.8)\nRequirement already satisfied: urllib3<1.27,>=1.21.1 in /databricks/python3/lib/python3.9/site-packages (from requests->kagglehub) (1.26.9)\nInstalling collected packages: tqdm, pyyaml, kagglehub\nSuccessfully installed kagglehub-0.3.12 pyyaml-6.0.2 tqdm-4.67.1\nPython interpreter will be restarted.\n"
     ]
    }
   ],
   "source": [
    "#Instalando a biblioteca \n",
    "%pip install kagglehub"
   ]
  },
  {
   "cell_type": "code",
   "execution_count": 0,
   "metadata": {
    "application/vnd.databricks.v1+cell": {
     "cellMetadata": {
      "byteLimit": 2048000,
      "rowLimit": 10000
     },
     "inputWidgets": {},
     "nuid": "6e48cf30-2d81-4a74-b160-f5d4c47c458b",
     "showTitle": false,
     "tableResultSettingsMap": {},
     "title": ""
    }
   },
   "outputs": [
    {
     "output_type": "stream",
     "name": "stdout",
     "output_type": "stream",
     "text": [
      "Path to dataset files: /root/.cache/kagglehub/datasets/mahdimashayekhi/disease-risk-from-daily-habits/versions/1\n"
     ]
    }
   ],
   "source": [
    "import kagglehub\n",
    "\n",
    "# Download da versão\n",
    "path = kagglehub.dataset_download(\"mahdimashayekhi/disease-risk-from-daily-habits\")\n",
    "\n",
    "print(\"Path to dataset files:\", path)"
   ]
  },
  {
   "cell_type": "code",
   "execution_count": 0,
   "metadata": {
    "application/vnd.databricks.v1+cell": {
     "cellMetadata": {
      "byteLimit": 2048000,
      "rowLimit": 10000
     },
     "inputWidgets": {},
     "nuid": "575ef34b-7a22-4461-be8f-3a7b5288a7c7",
     "showTitle": false,
     "tableResultSettingsMap": {},
     "title": ""
    }
   },
   "outputs": [
    {
     "output_type": "stream",
     "name": "stdout",
     "output_type": "stream",
     "text": [
      "health_lifestyle_classification.csv\n"
     ]
    }
   ],
   "source": [
    "import os\n",
    "\n",
    "# Lista os arquivos dentro da pasta\n",
    "for file in os.listdir(path):\n",
    "    print(file)"
   ]
  },
  {
   "cell_type": "code",
   "execution_count": 0,
   "metadata": {
    "application/vnd.databricks.v1+cell": {
     "cellMetadata": {
      "byteLimit": 2048000,
      "rowLimit": 10000
     },
     "inputWidgets": {},
     "nuid": "50029883-f805-4e59-9bb5-20c6f3cfeaf5",
     "showTitle": false,
     "tableResultSettingsMap": {},
     "title": ""
    }
   },
   "outputs": [
    {
     "output_type": "display_data",
     "data": {
      "application/vnd.databricks.v1+bamboolib_hint": "{\"pd.DataFrames\": [], \"version\": \"0.0.1\"}",
      "text/plain": []
     },
     "metadata": {},
     "output_type": "display_data"
    },
    {
     "output_type": "stream",
     "name": "stdout",
     "output_type": "stream",
     "text": [
      "Arquivos disponíveis:\n/root/.cache/kagglehub/datasets/mahdimashayekhi/disease-risk-from-daily-habits/versions/1/health_lifestyle_classification.csv\n"
     ]
    }
   ],
   "source": [
    "import pandas as pd\n",
    "\n",
    "# Substitua se o path for diferente\n",
    "print(\"Arquivos disponíveis:\")\n",
    "for root, dirs, files in os.walk(path):\n",
    "    for file in files:\n",
    "        print(os.path.join(root, file))\n"
   ]
  },
  {
   "cell_type": "code",
   "execution_count": 0,
   "metadata": {
    "application/vnd.databricks.v1+cell": {
     "cellMetadata": {
      "byteLimit": 2048000,
      "rowLimit": 10000
     },
     "inputWidgets": {},
     "nuid": "a2b0a918-ab46-482a-bb95-6b7d48923289",
     "showTitle": false,
     "tableResultSettingsMap": {},
     "title": ""
    }
   },
   "outputs": [
    {
     "output_type": "display_data",
     "data": {
      "text/html": [
       "<div>\n",
       "<style scoped>\n",
       "    .dataframe tbody tr th:only-of-type {\n",
       "        vertical-align: middle;\n",
       "    }\n",
       "\n",
       "    .dataframe tbody tr th {\n",
       "        vertical-align: top;\n",
       "    }\n",
       "\n",
       "    .dataframe thead th {\n",
       "        text-align: right;\n",
       "    }\n",
       "</style>\n",
       "<table border=\"1\" class=\"dataframe\">\n",
       "  <thead>\n",
       "    <tr style=\"text-align: right;\">\n",
       "      <th></th>\n",
       "      <th>survey_code</th>\n",
       "      <th>age</th>\n",
       "      <th>gender</th>\n",
       "      <th>height</th>\n",
       "      <th>weight</th>\n",
       "      <th>bmi</th>\n",
       "      <th>bmi_estimated</th>\n",
       "      <th>bmi_scaled</th>\n",
       "      <th>bmi_corrected</th>\n",
       "      <th>waist_size</th>\n",
       "      <th>...</th>\n",
       "      <th>sunlight_exposure</th>\n",
       "      <th>meals_per_day</th>\n",
       "      <th>caffeine_intake</th>\n",
       "      <th>family_history</th>\n",
       "      <th>pet_owner</th>\n",
       "      <th>electrolyte_level</th>\n",
       "      <th>gene_marker_flag</th>\n",
       "      <th>environmental_risk_score</th>\n",
       "      <th>daily_supplement_dosage</th>\n",
       "      <th>target</th>\n",
       "    </tr>\n",
       "  </thead>\n",
       "  <tbody>\n",
       "    <tr>\n",
       "      <th>0</th>\n",
       "      <td>1</td>\n",
       "      <td>56</td>\n",
       "      <td>Male</td>\n",
       "      <td>173.416872</td>\n",
       "      <td>56.886640</td>\n",
       "      <td>18.915925</td>\n",
       "      <td>18.915925</td>\n",
       "      <td>56.747776</td>\n",
       "      <td>18.989117</td>\n",
       "      <td>72.165130</td>\n",
       "      <td>...</td>\n",
       "      <td>High</td>\n",
       "      <td>5</td>\n",
       "      <td>Moderate</td>\n",
       "      <td>No</td>\n",
       "      <td>Yes</td>\n",
       "      <td>0</td>\n",
       "      <td>1.0</td>\n",
       "      <td>5.5</td>\n",
       "      <td>-2.275502</td>\n",
       "      <td>healthy</td>\n",
       "    </tr>\n",
       "    <tr>\n",
       "      <th>1</th>\n",
       "      <td>2</td>\n",
       "      <td>69</td>\n",
       "      <td>Female</td>\n",
       "      <td>163.207380</td>\n",
       "      <td>97.799859</td>\n",
       "      <td>36.716278</td>\n",
       "      <td>36.716278</td>\n",
       "      <td>110.148833</td>\n",
       "      <td>36.511417</td>\n",
       "      <td>85.598889</td>\n",
       "      <td>...</td>\n",
       "      <td>High</td>\n",
       "      <td>5</td>\n",
       "      <td>High</td>\n",
       "      <td>Yes</td>\n",
       "      <td>No</td>\n",
       "      <td>0</td>\n",
       "      <td>1.0</td>\n",
       "      <td>5.5</td>\n",
       "      <td>6.239340</td>\n",
       "      <td>healthy</td>\n",
       "    </tr>\n",
       "    <tr>\n",
       "      <th>2</th>\n",
       "      <td>3</td>\n",
       "      <td>46</td>\n",
       "      <td>Male</td>\n",
       "      <td>177.281966</td>\n",
       "      <td>80.687562</td>\n",
       "      <td>25.673050</td>\n",
       "      <td>25.673050</td>\n",
       "      <td>77.019151</td>\n",
       "      <td>25.587429</td>\n",
       "      <td>90.295030</td>\n",
       "      <td>...</td>\n",
       "      <td>High</td>\n",
       "      <td>4</td>\n",
       "      <td>Moderate</td>\n",
       "      <td>No</td>\n",
       "      <td>No</td>\n",
       "      <td>0</td>\n",
       "      <td>1.0</td>\n",
       "      <td>5.5</td>\n",
       "      <td>5.423737</td>\n",
       "      <td>healthy</td>\n",
       "    </tr>\n",
       "    <tr>\n",
       "      <th>3</th>\n",
       "      <td>4</td>\n",
       "      <td>32</td>\n",
       "      <td>Female</td>\n",
       "      <td>172.101255</td>\n",
       "      <td>63.142868</td>\n",
       "      <td>21.318480</td>\n",
       "      <td>21.318480</td>\n",
       "      <td>63.955440</td>\n",
       "      <td>21.177109</td>\n",
       "      <td>100.504211</td>\n",
       "      <td>...</td>\n",
       "      <td>High</td>\n",
       "      <td>1</td>\n",
       "      <td>None</td>\n",
       "      <td>No</td>\n",
       "      <td>Yes</td>\n",
       "      <td>0</td>\n",
       "      <td>1.0</td>\n",
       "      <td>5.5</td>\n",
       "      <td>8.388611</td>\n",
       "      <td>healthy</td>\n",
       "    </tr>\n",
       "    <tr>\n",
       "      <th>4</th>\n",
       "      <td>5</td>\n",
       "      <td>60</td>\n",
       "      <td>Female</td>\n",
       "      <td>163.608816</td>\n",
       "      <td>40.000000</td>\n",
       "      <td>14.943302</td>\n",
       "      <td>14.943302</td>\n",
       "      <td>44.829907</td>\n",
       "      <td>14.844299</td>\n",
       "      <td>69.021150</td>\n",
       "      <td>...</td>\n",
       "      <td>High</td>\n",
       "      <td>1</td>\n",
       "      <td>High</td>\n",
       "      <td>Yes</td>\n",
       "      <td>Yes</td>\n",
       "      <td>0</td>\n",
       "      <td>1.0</td>\n",
       "      <td>5.5</td>\n",
       "      <td>0.332622</td>\n",
       "      <td>healthy</td>\n",
       "    </tr>\n",
       "  </tbody>\n",
       "</table>\n",
       "<p>5 rows × 48 columns</p>\n",
       "</div>"
      ]
     },
     "metadata": {
      "application/vnd.databricks.v1+output": {
       "addedWidgets": {},
       "arguments": {},
       "data": "<div>\n<style scoped>\n    .dataframe tbody tr th:only-of-type {\n        vertical-align: middle;\n    }\n\n    .dataframe tbody tr th {\n        vertical-align: top;\n    }\n\n    .dataframe thead th {\n        text-align: right;\n    }\n</style>\n<table border=\"1\" class=\"dataframe\">\n  <thead>\n    <tr style=\"text-align: right;\">\n      <th></th>\n      <th>survey_code</th>\n      <th>age</th>\n      <th>gender</th>\n      <th>height</th>\n      <th>weight</th>\n      <th>bmi</th>\n      <th>bmi_estimated</th>\n      <th>bmi_scaled</th>\n      <th>bmi_corrected</th>\n      <th>waist_size</th>\n      <th>...</th>\n      <th>sunlight_exposure</th>\n      <th>meals_per_day</th>\n      <th>caffeine_intake</th>\n      <th>family_history</th>\n      <th>pet_owner</th>\n      <th>electrolyte_level</th>\n      <th>gene_marker_flag</th>\n      <th>environmental_risk_score</th>\n      <th>daily_supplement_dosage</th>\n      <th>target</th>\n    </tr>\n  </thead>\n  <tbody>\n    <tr>\n      <th>0</th>\n      <td>1</td>\n      <td>56</td>\n      <td>Male</td>\n      <td>173.416872</td>\n      <td>56.886640</td>\n      <td>18.915925</td>\n      <td>18.915925</td>\n      <td>56.747776</td>\n      <td>18.989117</td>\n      <td>72.165130</td>\n      <td>...</td>\n      <td>High</td>\n      <td>5</td>\n      <td>Moderate</td>\n      <td>No</td>\n      <td>Yes</td>\n      <td>0</td>\n      <td>1.0</td>\n      <td>5.5</td>\n      <td>-2.275502</td>\n      <td>healthy</td>\n    </tr>\n    <tr>\n      <th>1</th>\n      <td>2</td>\n      <td>69</td>\n      <td>Female</td>\n      <td>163.207380</td>\n      <td>97.799859</td>\n      <td>36.716278</td>\n      <td>36.716278</td>\n      <td>110.148833</td>\n      <td>36.511417</td>\n      <td>85.598889</td>\n      <td>...</td>\n      <td>High</td>\n      <td>5</td>\n      <td>High</td>\n      <td>Yes</td>\n      <td>No</td>\n      <td>0</td>\n      <td>1.0</td>\n      <td>5.5</td>\n      <td>6.239340</td>\n      <td>healthy</td>\n    </tr>\n    <tr>\n      <th>2</th>\n      <td>3</td>\n      <td>46</td>\n      <td>Male</td>\n      <td>177.281966</td>\n      <td>80.687562</td>\n      <td>25.673050</td>\n      <td>25.673050</td>\n      <td>77.019151</td>\n      <td>25.587429</td>\n      <td>90.295030</td>\n      <td>...</td>\n      <td>High</td>\n      <td>4</td>\n      <td>Moderate</td>\n      <td>No</td>\n      <td>No</td>\n      <td>0</td>\n      <td>1.0</td>\n      <td>5.5</td>\n      <td>5.423737</td>\n      <td>healthy</td>\n    </tr>\n    <tr>\n      <th>3</th>\n      <td>4</td>\n      <td>32</td>\n      <td>Female</td>\n      <td>172.101255</td>\n      <td>63.142868</td>\n      <td>21.318480</td>\n      <td>21.318480</td>\n      <td>63.955440</td>\n      <td>21.177109</td>\n      <td>100.504211</td>\n      <td>...</td>\n      <td>High</td>\n      <td>1</td>\n      <td>None</td>\n      <td>No</td>\n      <td>Yes</td>\n      <td>0</td>\n      <td>1.0</td>\n      <td>5.5</td>\n      <td>8.388611</td>\n      <td>healthy</td>\n    </tr>\n    <tr>\n      <th>4</th>\n      <td>5</td>\n      <td>60</td>\n      <td>Female</td>\n      <td>163.608816</td>\n      <td>40.000000</td>\n      <td>14.943302</td>\n      <td>14.943302</td>\n      <td>44.829907</td>\n      <td>14.844299</td>\n      <td>69.021150</td>\n      <td>...</td>\n      <td>High</td>\n      <td>1</td>\n      <td>High</td>\n      <td>Yes</td>\n      <td>Yes</td>\n      <td>0</td>\n      <td>1.0</td>\n      <td>5.5</td>\n      <td>0.332622</td>\n      <td>healthy</td>\n    </tr>\n  </tbody>\n</table>\n<p>5 rows × 48 columns</p>\n</div>",
       "datasetInfos": [],
       "metadata": {},
       "removedWidgets": [],
       "textData": null,
       "type": "htmlSandbox"
      }
     },
     "output_type": "display_data"
    }
   ],
   "source": [
    "#visualizar as primeiras linhas do conjunto\n",
    "df = pd.read_csv(\"/root/.cache/kagglehub/datasets/mahdimashayekhi/disease-risk-from-daily-habits/versions/1/health_lifestyle_classification.csv\")\n",
    "df.head()"
   ]
  },
  {
   "cell_type": "markdown",
   "metadata": {
    "application/vnd.databricks.v1+cell": {
     "cellMetadata": {},
     "inputWidgets": {},
     "nuid": "21474d1f-2729-4dcb-a882-cbf47799b55c",
     "showTitle": false,
     "tableResultSettingsMap": {},
     "title": ""
    }
   },
   "source": [
    "**Ajuste da nomenclatura das colunas e variáveis**\n",
    "\n",
    "As colunas do dataset foram renomeadas para o idioma português, visando facilitar a leitura e interpretação. Além disso, as variáveis categóricas também foram tratadas e padronizadas para o português, garantindo maior consistência na análise.\n"
   ]
  },
  {
   "cell_type": "code",
   "execution_count": 0,
   "metadata": {
    "application/vnd.databricks.v1+cell": {
     "cellMetadata": {
      "byteLimit": 2048000,
      "rowLimit": 10000
     },
     "inputWidgets": {},
     "nuid": "6c41fd22-349f-4eeb-97ee-98f1bf54c7c5",
     "showTitle": false,
     "tableResultSettingsMap": {},
     "title": ""
    }
   },
   "outputs": [
    {
     "output_type": "stream",
     "name": "stdout",
     "output_type": "stream",
     "text": [
      "['survey_code', 'age', 'gender', 'height', 'weight', 'bmi', 'bmi_estimated', 'bmi_scaled', 'bmi_corrected', 'waist_size', 'blood_pressure', 'heart_rate', 'cholesterol', 'glucose', 'insulin', 'sleep_hours', 'sleep_quality', 'work_hours', 'physical_activity', 'daily_steps', 'calorie_intake', 'sugar_intake', 'alcohol_consumption', 'smoking_level', 'water_intake', 'screen_time', 'stress_level', 'mental_health_score', 'mental_health_support', 'education_level', 'job_type', 'occupation', 'income', 'diet_type', 'exercise_type', 'device_usage', 'healthcare_access', 'insurance', 'sunlight_exposure', 'meals_per_day', 'caffeine_intake', 'family_history', 'pet_owner', 'electrolyte_level', 'gene_marker_flag', 'environmental_risk_score', 'daily_supplement_dosage', 'target']\n"
     ]
    }
   ],
   "source": [
    "#Listando colunas\n",
    "print(df.columns.tolist())"
   ]
  },
  {
   "cell_type": "code",
   "execution_count": 0,
   "metadata": {
    "application/vnd.databricks.v1+cell": {
     "cellMetadata": {
      "byteLimit": 2048000,
      "rowLimit": 10000
     },
     "inputWidgets": {},
     "nuid": "e14451db-f73c-4fee-94b1-62a220db81f3",
     "showTitle": false,
     "tableResultSettingsMap": {},
     "title": ""
    }
   },
   "outputs": [],
   "source": [
    "#Ajustando nome das colunas para idioma portugês\n",
    "df = df.rename(columns={\n",
    "    'survey_code': 'codigo_pesquisa',\n",
    "    'age': 'idade',\n",
    "    'gender': 'genero',\n",
    "    'height': 'altura',\n",
    "    'weight': 'peso',\n",
    "    'bmi': 'imc',\n",
    "    'bmi_estimated': 'imc_estimado',\n",
    "    'bmi_scaled': 'imc_normalizado',\n",
    "    'bmi_corrected': 'imc_corrigido',\n",
    "    'waist_size': 'circunferencia_cintura',\n",
    "    'blood_pressure': 'pressao_arterial',\n",
    "    'heart_rate': 'frequencia_cardiaca',\n",
    "    'cholesterol': 'colesterol',\n",
    "    'glucose': 'glicose',\n",
    "    'insulin': 'insulina',\n",
    "    'sleep_hours': 'horas_sono',\n",
    "    'sleep_quality': 'qualidade_sono',\n",
    "    'work_hours': 'horas_trabalho',\n",
    "    'physical_activity': 'atividade_fisica',\n",
    "    'daily_steps': 'passos_diarios',\n",
    "    'calorie_intake': 'consumo_calorias',\n",
    "    'sugar_intake': 'consumo_acucar',\n",
    "    'alcohol_consumption': 'consumo_alcool',\n",
    "    'smoking_level': 'nivel_tabagismo',\n",
    "    'water_intake': 'consumo_agua',\n",
    "    'screen_time': 'tempo_tela',\n",
    "    'stress_level': 'nivel_estresse',\n",
    "    'mental_health_score': 'pontuacao_saude_mental',\n",
    "    'mental_health_support': 'apoio_saude_mental',\n",
    "    'education_level': 'nivel_educacional',\n",
    "    'job_type': 'tipo_emprego',\n",
    "    'occupation': 'ocupacao',\n",
    "    'income': 'renda',\n",
    "    'diet_type': 'tipo_dieta',\n",
    "    'exercise_type': 'tipo_exercicio',\n",
    "    'device_usage': 'uso_dispositivos',\n",
    "    'healthcare_access': 'acesso_saude',\n",
    "    'insurance': 'seguro_saude',\n",
    "    'sunlight_exposure': 'exposicao_sol',\n",
    "    'meals_per_day': 'refeicoes_dia',\n",
    "    'caffeine_intake': 'consumo_cafeina',\n",
    "    'family_history': 'historico_familiar',\n",
    "    'pet_owner': 'possui_pet',\n",
    "    'electrolyte_level': 'nivel_eletrolitos',\n",
    "    'gene_marker_flag': 'marcador_genetico',\n",
    "    'environmental_risk_score': 'pontuacao_risco_ambiental',\n",
    "    'daily_supplement_dosage': 'dosagem_suplementos_diaria',\n",
    "    'target': 'alvo'\n",
    "})"
   ]
  },
  {
   "cell_type": "code",
   "execution_count": 0,
   "metadata": {
    "application/vnd.databricks.v1+cell": {
     "cellMetadata": {
      "byteLimit": 2048000,
      "rowLimit": 10000
     },
     "inputWidgets": {},
     "nuid": "84deb41e-1ac2-4607-a4e1-a0bdb16a1118",
     "showTitle": false,
     "tableResultSettingsMap": {},
     "title": ""
    }
   },
   "outputs": [
    {
     "output_type": "display_data",
     "data": {
      "text/html": [
       "<div>\n",
       "<style scoped>\n",
       "    .dataframe tbody tr th:only-of-type {\n",
       "        vertical-align: middle;\n",
       "    }\n",
       "\n",
       "    .dataframe tbody tr th {\n",
       "        vertical-align: top;\n",
       "    }\n",
       "\n",
       "    .dataframe thead th {\n",
       "        text-align: right;\n",
       "    }\n",
       "</style>\n",
       "<table border=\"1\" class=\"dataframe\">\n",
       "  <thead>\n",
       "    <tr style=\"text-align: right;\">\n",
       "      <th></th>\n",
       "      <th>codigo_pesquisa</th>\n",
       "      <th>idade</th>\n",
       "      <th>genero</th>\n",
       "      <th>altura</th>\n",
       "      <th>peso</th>\n",
       "      <th>imc</th>\n",
       "      <th>imc_estimado</th>\n",
       "      <th>imc_normalizado</th>\n",
       "      <th>imc_corrigido</th>\n",
       "      <th>circunferencia_cintura</th>\n",
       "      <th>...</th>\n",
       "      <th>exposicao_sol</th>\n",
       "      <th>refeicoes_dia</th>\n",
       "      <th>consumo_cafeina</th>\n",
       "      <th>historico_familiar</th>\n",
       "      <th>possui_pet</th>\n",
       "      <th>nivel_eletrolitos</th>\n",
       "      <th>marcador_genetico</th>\n",
       "      <th>pontuacao_risco_ambiental</th>\n",
       "      <th>dosagem_suplementos_diaria</th>\n",
       "      <th>alvo</th>\n",
       "    </tr>\n",
       "  </thead>\n",
       "  <tbody>\n",
       "    <tr>\n",
       "      <th>0</th>\n",
       "      <td>1</td>\n",
       "      <td>56</td>\n",
       "      <td>Male</td>\n",
       "      <td>173.416872</td>\n",
       "      <td>56.886640</td>\n",
       "      <td>18.915925</td>\n",
       "      <td>18.915925</td>\n",
       "      <td>56.747776</td>\n",
       "      <td>18.989117</td>\n",
       "      <td>72.165130</td>\n",
       "      <td>...</td>\n",
       "      <td>High</td>\n",
       "      <td>5</td>\n",
       "      <td>Moderate</td>\n",
       "      <td>No</td>\n",
       "      <td>Yes</td>\n",
       "      <td>0</td>\n",
       "      <td>1.0</td>\n",
       "      <td>5.5</td>\n",
       "      <td>-2.275502</td>\n",
       "      <td>healthy</td>\n",
       "    </tr>\n",
       "    <tr>\n",
       "      <th>1</th>\n",
       "      <td>2</td>\n",
       "      <td>69</td>\n",
       "      <td>Female</td>\n",
       "      <td>163.207380</td>\n",
       "      <td>97.799859</td>\n",
       "      <td>36.716278</td>\n",
       "      <td>36.716278</td>\n",
       "      <td>110.148833</td>\n",
       "      <td>36.511417</td>\n",
       "      <td>85.598889</td>\n",
       "      <td>...</td>\n",
       "      <td>High</td>\n",
       "      <td>5</td>\n",
       "      <td>High</td>\n",
       "      <td>Yes</td>\n",
       "      <td>No</td>\n",
       "      <td>0</td>\n",
       "      <td>1.0</td>\n",
       "      <td>5.5</td>\n",
       "      <td>6.239340</td>\n",
       "      <td>healthy</td>\n",
       "    </tr>\n",
       "    <tr>\n",
       "      <th>2</th>\n",
       "      <td>3</td>\n",
       "      <td>46</td>\n",
       "      <td>Male</td>\n",
       "      <td>177.281966</td>\n",
       "      <td>80.687562</td>\n",
       "      <td>25.673050</td>\n",
       "      <td>25.673050</td>\n",
       "      <td>77.019151</td>\n",
       "      <td>25.587429</td>\n",
       "      <td>90.295030</td>\n",
       "      <td>...</td>\n",
       "      <td>High</td>\n",
       "      <td>4</td>\n",
       "      <td>Moderate</td>\n",
       "      <td>No</td>\n",
       "      <td>No</td>\n",
       "      <td>0</td>\n",
       "      <td>1.0</td>\n",
       "      <td>5.5</td>\n",
       "      <td>5.423737</td>\n",
       "      <td>healthy</td>\n",
       "    </tr>\n",
       "    <tr>\n",
       "      <th>3</th>\n",
       "      <td>4</td>\n",
       "      <td>32</td>\n",
       "      <td>Female</td>\n",
       "      <td>172.101255</td>\n",
       "      <td>63.142868</td>\n",
       "      <td>21.318480</td>\n",
       "      <td>21.318480</td>\n",
       "      <td>63.955440</td>\n",
       "      <td>21.177109</td>\n",
       "      <td>100.504211</td>\n",
       "      <td>...</td>\n",
       "      <td>High</td>\n",
       "      <td>1</td>\n",
       "      <td>None</td>\n",
       "      <td>No</td>\n",
       "      <td>Yes</td>\n",
       "      <td>0</td>\n",
       "      <td>1.0</td>\n",
       "      <td>5.5</td>\n",
       "      <td>8.388611</td>\n",
       "      <td>healthy</td>\n",
       "    </tr>\n",
       "    <tr>\n",
       "      <th>4</th>\n",
       "      <td>5</td>\n",
       "      <td>60</td>\n",
       "      <td>Female</td>\n",
       "      <td>163.608816</td>\n",
       "      <td>40.000000</td>\n",
       "      <td>14.943302</td>\n",
       "      <td>14.943302</td>\n",
       "      <td>44.829907</td>\n",
       "      <td>14.844299</td>\n",
       "      <td>69.021150</td>\n",
       "      <td>...</td>\n",
       "      <td>High</td>\n",
       "      <td>1</td>\n",
       "      <td>High</td>\n",
       "      <td>Yes</td>\n",
       "      <td>Yes</td>\n",
       "      <td>0</td>\n",
       "      <td>1.0</td>\n",
       "      <td>5.5</td>\n",
       "      <td>0.332622</td>\n",
       "      <td>healthy</td>\n",
       "    </tr>\n",
       "  </tbody>\n",
       "</table>\n",
       "<p>5 rows × 48 columns</p>\n",
       "</div>"
      ]
     },
     "metadata": {
      "application/vnd.databricks.v1+output": {
       "addedWidgets": {},
       "arguments": {},
       "data": "<div>\n<style scoped>\n    .dataframe tbody tr th:only-of-type {\n        vertical-align: middle;\n    }\n\n    .dataframe tbody tr th {\n        vertical-align: top;\n    }\n\n    .dataframe thead th {\n        text-align: right;\n    }\n</style>\n<table border=\"1\" class=\"dataframe\">\n  <thead>\n    <tr style=\"text-align: right;\">\n      <th></th>\n      <th>codigo_pesquisa</th>\n      <th>idade</th>\n      <th>genero</th>\n      <th>altura</th>\n      <th>peso</th>\n      <th>imc</th>\n      <th>imc_estimado</th>\n      <th>imc_normalizado</th>\n      <th>imc_corrigido</th>\n      <th>circunferencia_cintura</th>\n      <th>...</th>\n      <th>exposicao_sol</th>\n      <th>refeicoes_dia</th>\n      <th>consumo_cafeina</th>\n      <th>historico_familiar</th>\n      <th>possui_pet</th>\n      <th>nivel_eletrolitos</th>\n      <th>marcador_genetico</th>\n      <th>pontuacao_risco_ambiental</th>\n      <th>dosagem_suplementos_diaria</th>\n      <th>alvo</th>\n    </tr>\n  </thead>\n  <tbody>\n    <tr>\n      <th>0</th>\n      <td>1</td>\n      <td>56</td>\n      <td>Male</td>\n      <td>173.416872</td>\n      <td>56.886640</td>\n      <td>18.915925</td>\n      <td>18.915925</td>\n      <td>56.747776</td>\n      <td>18.989117</td>\n      <td>72.165130</td>\n      <td>...</td>\n      <td>High</td>\n      <td>5</td>\n      <td>Moderate</td>\n      <td>No</td>\n      <td>Yes</td>\n      <td>0</td>\n      <td>1.0</td>\n      <td>5.5</td>\n      <td>-2.275502</td>\n      <td>healthy</td>\n    </tr>\n    <tr>\n      <th>1</th>\n      <td>2</td>\n      <td>69</td>\n      <td>Female</td>\n      <td>163.207380</td>\n      <td>97.799859</td>\n      <td>36.716278</td>\n      <td>36.716278</td>\n      <td>110.148833</td>\n      <td>36.511417</td>\n      <td>85.598889</td>\n      <td>...</td>\n      <td>High</td>\n      <td>5</td>\n      <td>High</td>\n      <td>Yes</td>\n      <td>No</td>\n      <td>0</td>\n      <td>1.0</td>\n      <td>5.5</td>\n      <td>6.239340</td>\n      <td>healthy</td>\n    </tr>\n    <tr>\n      <th>2</th>\n      <td>3</td>\n      <td>46</td>\n      <td>Male</td>\n      <td>177.281966</td>\n      <td>80.687562</td>\n      <td>25.673050</td>\n      <td>25.673050</td>\n      <td>77.019151</td>\n      <td>25.587429</td>\n      <td>90.295030</td>\n      <td>...</td>\n      <td>High</td>\n      <td>4</td>\n      <td>Moderate</td>\n      <td>No</td>\n      <td>No</td>\n      <td>0</td>\n      <td>1.0</td>\n      <td>5.5</td>\n      <td>5.423737</td>\n      <td>healthy</td>\n    </tr>\n    <tr>\n      <th>3</th>\n      <td>4</td>\n      <td>32</td>\n      <td>Female</td>\n      <td>172.101255</td>\n      <td>63.142868</td>\n      <td>21.318480</td>\n      <td>21.318480</td>\n      <td>63.955440</td>\n      <td>21.177109</td>\n      <td>100.504211</td>\n      <td>...</td>\n      <td>High</td>\n      <td>1</td>\n      <td>None</td>\n      <td>No</td>\n      <td>Yes</td>\n      <td>0</td>\n      <td>1.0</td>\n      <td>5.5</td>\n      <td>8.388611</td>\n      <td>healthy</td>\n    </tr>\n    <tr>\n      <th>4</th>\n      <td>5</td>\n      <td>60</td>\n      <td>Female</td>\n      <td>163.608816</td>\n      <td>40.000000</td>\n      <td>14.943302</td>\n      <td>14.943302</td>\n      <td>44.829907</td>\n      <td>14.844299</td>\n      <td>69.021150</td>\n      <td>...</td>\n      <td>High</td>\n      <td>1</td>\n      <td>High</td>\n      <td>Yes</td>\n      <td>Yes</td>\n      <td>0</td>\n      <td>1.0</td>\n      <td>5.5</td>\n      <td>0.332622</td>\n      <td>healthy</td>\n    </tr>\n  </tbody>\n</table>\n<p>5 rows × 48 columns</p>\n</div>",
       "datasetInfos": [],
       "metadata": {},
       "removedWidgets": [],
       "textData": null,
       "type": "htmlSandbox"
      }
     },
     "output_type": "display_data"
    }
   ],
   "source": [
    "df.head()"
   ]
  },
  {
   "cell_type": "markdown",
   "metadata": {
    "application/vnd.databricks.v1+cell": {
     "cellMetadata": {},
     "inputWidgets": {},
     "nuid": "bef8d420-4537-40e1-8d70-d3907cdf1c13",
     "showTitle": false,
     "tableResultSettingsMap": {},
     "title": ""
    }
   },
   "source": [
    "**Ajuste de idioma nas variáveis categóricas**"
   ]
  },
  {
   "cell_type": "code",
   "execution_count": 0,
   "metadata": {
    "application/vnd.databricks.v1+cell": {
     "cellMetadata": {
      "byteLimit": 2048000,
      "rowLimit": 10000
     },
     "inputWidgets": {},
     "nuid": "bcfe6590-d42a-48af-af4b-70aa70a9ecc9",
     "showTitle": false,
     "tableResultSettingsMap": {},
     "title": ""
    }
   },
   "outputs": [
    {
     "output_type": "stream",
     "name": "stdout",
     "output_type": "stream",
     "text": [
      "Out[9]: array(['Moderate', 'High', 'None'], dtype=object)"
     ]
    }
   ],
   "source": [
    "df['consumo_cafeina'].unique()"
   ]
  },
  {
   "cell_type": "code",
   "execution_count": 0,
   "metadata": {
    "application/vnd.databricks.v1+cell": {
     "cellMetadata": {
      "byteLimit": 2048000,
      "rowLimit": 10000
     },
     "inputWidgets": {},
     "nuid": "55091017-33c5-48bb-a14e-841274b34b77",
     "showTitle": false,
     "tableResultSettingsMap": {},
     "title": ""
    }
   },
   "outputs": [],
   "source": [
    "df['consumo_cafeina'] = df['consumo_cafeina'].map({\n",
    "    'None': 'Nenhum',\n",
    "    'Moderate': 'Moderado',\n",
    "    'High': 'Alto'\n",
    "})"
   ]
  },
  {
   "cell_type": "code",
   "execution_count": 0,
   "metadata": {
    "application/vnd.databricks.v1+cell": {
     "cellMetadata": {
      "byteLimit": 2048000,
      "rowLimit": 10000
     },
     "inputWidgets": {},
     "nuid": "43a619ee-21bd-4741-8cf1-1cedb7e25157",
     "showTitle": false,
     "tableResultSettingsMap": {},
     "title": ""
    }
   },
   "outputs": [
    {
     "output_type": "stream",
     "name": "stdout",
     "output_type": "stream",
     "text": [
      "Out[11]: array(['Male', 'Female'], dtype=object)"
     ]
    }
   ],
   "source": [
    "df['genero'].unique()"
   ]
  },
  {
   "cell_type": "code",
   "execution_count": 0,
   "metadata": {
    "application/vnd.databricks.v1+cell": {
     "cellMetadata": {
      "byteLimit": 2048000,
      "rowLimit": 10000
     },
     "inputWidgets": {},
     "nuid": "20f3644f-e2ed-4b89-a7ad-fe4632031dd0",
     "showTitle": false,
     "tableResultSettingsMap": {},
     "title": ""
    }
   },
   "outputs": [],
   "source": [
    "df['genero'] = df['genero'].map({\n",
    "    'Male': 'Masculino',\n",
    "    'Female': 'Feminino'\n",
    "})"
   ]
  },
  {
   "cell_type": "code",
   "execution_count": 0,
   "metadata": {
    "application/vnd.databricks.v1+cell": {
     "cellMetadata": {
      "byteLimit": 2048000,
      "rowLimit": 10000
     },
     "inputWidgets": {},
     "nuid": "21934b4d-520b-4a10-94c4-75e85d7137d0",
     "showTitle": false,
     "tableResultSettingsMap": {},
     "title": ""
    }
   },
   "outputs": [
    {
     "output_type": "stream",
     "name": "stdout",
     "output_type": "stream",
     "text": [
      "Out[13]: array(['Fair', 'Good', 'Poor', 'Excellent'], dtype=object)"
     ]
    }
   ],
   "source": [
    "df['qualidade_sono'].unique()"
   ]
  },
  {
   "cell_type": "code",
   "execution_count": 0,
   "metadata": {
    "application/vnd.databricks.v1+cell": {
     "cellMetadata": {
      "byteLimit": 2048000,
      "rowLimit": 10000
     },
     "inputWidgets": {},
     "nuid": "4d497942-111f-45b1-beec-b811c09df278",
     "showTitle": false,
     "tableResultSettingsMap": {},
     "title": ""
    }
   },
   "outputs": [],
   "source": [
    "df['qualidade_sono'] = df['qualidade_sono'].map({\n",
    "    'Excellent': 'Excelente',\n",
    "    'Good': 'Boa',\n",
    "    'Fair': 'Razoável',\n",
    "    'Poor': 'Ruim'\n",
    "})"
   ]
  },
  {
   "cell_type": "code",
   "execution_count": 0,
   "metadata": {
    "application/vnd.databricks.v1+cell": {
     "cellMetadata": {
      "byteLimit": 2048000,
      "rowLimit": 10000
     },
     "inputWidgets": {},
     "nuid": "152451e6-5965-44aa-9116-db117186aba2",
     "showTitle": false,
     "tableResultSettingsMap": {},
     "title": ""
    }
   },
   "outputs": [
    {
     "output_type": "stream",
     "name": "stdout",
     "output_type": "stream",
     "text": [
      "Out[15]: array([nan, 'Regularly', 'Occasionally', 'None'], dtype=object)"
     ]
    }
   ],
   "source": [
    "df['consumo_alcool'].unique()"
   ]
  },
  {
   "cell_type": "code",
   "execution_count": 0,
   "metadata": {
    "application/vnd.databricks.v1+cell": {
     "cellMetadata": {
      "byteLimit": 2048000,
      "rowLimit": 10000
     },
     "inputWidgets": {},
     "nuid": "c6321627-24ba-41be-9fb3-af15e84d674d",
     "showTitle": false,
     "tableResultSettingsMap": {},
     "title": ""
    }
   },
   "outputs": [],
   "source": [
    "df['consumo_alcool'] = df['consumo_alcool'].map({\n",
    "    'Regularly': 'Regularmente',\n",
    "    'Occasionally': 'Ocasionalmente',\n",
    "    'None': 'Nenhum'\n",
    "})"
   ]
  },
  {
   "cell_type": "code",
   "execution_count": 0,
   "metadata": {
    "application/vnd.databricks.v1+cell": {
     "cellMetadata": {
      "byteLimit": 2048000,
      "rowLimit": 10000
     },
     "inputWidgets": {},
     "nuid": "8f19a674-3f9a-4559-93b3-fd4ea20a1c4c",
     "showTitle": false,
     "tableResultSettingsMap": {},
     "title": ""
    }
   },
   "outputs": [
    {
     "output_type": "stream",
     "name": "stdout",
     "output_type": "stream",
     "text": [
      "Out[17]: array(['Non-smoker', 'Light', 'Heavy'], dtype=object)"
     ]
    }
   ],
   "source": [
    "df['nivel_tabagismo'].unique()"
   ]
  },
  {
   "cell_type": "code",
   "execution_count": 0,
   "metadata": {
    "application/vnd.databricks.v1+cell": {
     "cellMetadata": {
      "byteLimit": 2048000,
      "rowLimit": 10000
     },
     "inputWidgets": {},
     "nuid": "a0259199-9620-4bc3-9bed-4037e32f971f",
     "showTitle": false,
     "tableResultSettingsMap": {},
     "title": ""
    }
   },
   "outputs": [],
   "source": [
    "df['nivel_tabagismo'] = df['nivel_tabagismo'].map({\n",
    "    'Non-smoker': 'Não fumante',\n",
    "    'Light': 'Fumante leve',\n",
    "    'Heavy': 'Fumante intenso'\n",
    "})"
   ]
  },
  {
   "cell_type": "code",
   "execution_count": 0,
   "metadata": {
    "application/vnd.databricks.v1+cell": {
     "cellMetadata": {
      "byteLimit": 2048000,
      "rowLimit": 10000
     },
     "inputWidgets": {},
     "nuid": "e5c953e7-86a0-4f33-bb77-5bac16f26256",
     "showTitle": false,
     "tableResultSettingsMap": {},
     "title": ""
    }
   },
   "outputs": [
    {
     "output_type": "stream",
     "name": "stdout",
     "output_type": "stream",
     "text": [
      "Out[19]: array(['No', 'Yes'], dtype=object)"
     ]
    }
   ],
   "source": [
    "df['apoio_saude_mental'].unique()"
   ]
  },
  {
   "cell_type": "code",
   "execution_count": 0,
   "metadata": {
    "application/vnd.databricks.v1+cell": {
     "cellMetadata": {
      "byteLimit": 2048000,
      "rowLimit": 10000
     },
     "inputWidgets": {},
     "nuid": "27ae137f-7e5d-4388-a23f-b31f9e1bef55",
     "showTitle": false,
     "tableResultSettingsMap": {},
     "title": ""
    }
   },
   "outputs": [],
   "source": [
    "df['apoio_saude_mental'] = df['apoio_saude_mental'].map({\n",
    "    'No': 'Não',\n",
    "    'Yes': 'Sim'\n",
    "})"
   ]
  },
  {
   "cell_type": "code",
   "execution_count": 0,
   "metadata": {
    "application/vnd.databricks.v1+cell": {
     "cellMetadata": {
      "byteLimit": 2048000,
      "rowLimit": 10000
     },
     "inputWidgets": {},
     "nuid": "2cc5d7c2-4d72-4893-8dcb-c3b16dd709ae",
     "showTitle": false,
     "tableResultSettingsMap": {},
     "title": ""
    }
   },
   "outputs": [
    {
     "output_type": "stream",
     "name": "stdout",
     "output_type": "stream",
     "text": [
      "Out[21]: array(['PhD', 'High School', 'Master', 'Bachelor'], dtype=object)"
     ]
    }
   ],
   "source": [
    "df['nivel_educacional'].unique()"
   ]
  },
  {
   "cell_type": "code",
   "execution_count": 0,
   "metadata": {
    "application/vnd.databricks.v1+cell": {
     "cellMetadata": {
      "byteLimit": 2048000,
      "rowLimit": 10000
     },
     "inputWidgets": {},
     "nuid": "a13b5eae-9e5b-4222-967b-900c3c380215",
     "showTitle": false,
     "tableResultSettingsMap": {},
     "title": ""
    }
   },
   "outputs": [],
   "source": [
    "df['nivel_educacional'] = df['nivel_educacional'].map({\n",
    "    'PhD': 'Doutorado',\n",
    "    'Master': 'Mestrado',\n",
    "    'Bachelor': 'Graduação',\n",
    "    'High School': 'Ensino médio'\n",
    "})"
   ]
  },
  {
   "cell_type": "code",
   "execution_count": 0,
   "metadata": {
    "application/vnd.databricks.v1+cell": {
     "cellMetadata": {
      "byteLimit": 2048000,
      "rowLimit": 10000
     },
     "inputWidgets": {},
     "nuid": "1ba01cd6-ca03-4156-86f2-2caef31da0df",
     "showTitle": false,
     "tableResultSettingsMap": {},
     "title": ""
    }
   },
   "outputs": [
    {
     "output_type": "stream",
     "name": "stdout",
     "output_type": "stream",
     "text": [
      "Out[23]: array(['Tech', 'Office', 'Labor', 'Unemployed', 'Service', 'Healthcare'],\n      dtype=object)"
     ]
    }
   ],
   "source": [
    "df['tipo_emprego'].unique()"
   ]
  },
  {
   "cell_type": "code",
   "execution_count": 0,
   "metadata": {
    "application/vnd.databricks.v1+cell": {
     "cellMetadata": {
      "byteLimit": 2048000,
      "rowLimit": 10000
     },
     "inputWidgets": {},
     "nuid": "43ac919e-dd17-490c-8997-88b680cd6fbf",
     "showTitle": false,
     "tableResultSettingsMap": {},
     "title": ""
    }
   },
   "outputs": [],
   "source": [
    "df['tipo_emprego'] = df['tipo_emprego'].map({\n",
    "    'Tech': 'Tecnologia',\n",
    "    'Office': 'Escritório',\n",
    "    'Labor': 'Trabalho manual',\n",
    "    'Unemployed': 'Desempregado',\n",
    "    'Service': 'Serviços',\n",
    "    'Healthcare': 'Saúde'\n",
    "})"
   ]
  },
  {
   "cell_type": "code",
   "execution_count": 0,
   "metadata": {
    "application/vnd.databricks.v1+cell": {
     "cellMetadata": {
      "byteLimit": 2048000,
      "rowLimit": 10000
     },
     "inputWidgets": {},
     "nuid": "1043de03-5f5e-42e2-bcbf-2378c4953a27",
     "showTitle": false,
     "tableResultSettingsMap": {},
     "title": ""
    }
   },
   "outputs": [
    {
     "output_type": "stream",
     "name": "stdout",
     "output_type": "stream",
     "text": [
      "Out[25]: array(['Farmer', 'Engineer', 'Teacher', 'Doctor', 'Driver', 'Artist'],\n      dtype=object)"
     ]
    }
   ],
   "source": [
    "df['ocupacao'].unique()"
   ]
  },
  {
   "cell_type": "code",
   "execution_count": 0,
   "metadata": {
    "application/vnd.databricks.v1+cell": {
     "cellMetadata": {
      "byteLimit": 2048000,
      "rowLimit": 10000
     },
     "inputWidgets": {},
     "nuid": "e30c3c08-e8c6-42c8-9ef4-c86eb1d6bb0c",
     "showTitle": false,
     "tableResultSettingsMap": {},
     "title": ""
    }
   },
   "outputs": [],
   "source": [
    "df['ocupacao'] = df['ocupacao'].map({\n",
    "    'Farmer': 'Agricultor',\n",
    "    'Engineer': 'Engenheiro',\n",
    "    'Teacher': 'Professor',\n",
    "    'Doctor': 'Médico',\n",
    "    'Driver': 'Motorista',\n",
    "    'Artist': 'Artista'\n",
    "})"
   ]
  },
  {
   "cell_type": "code",
   "execution_count": 0,
   "metadata": {
    "application/vnd.databricks.v1+cell": {
     "cellMetadata": {
      "byteLimit": 2048000,
      "rowLimit": 10000
     },
     "inputWidgets": {},
     "nuid": "f17de498-36f1-48ae-b445-729e3e934122",
     "showTitle": false,
     "tableResultSettingsMap": {},
     "title": ""
    }
   },
   "outputs": [
    {
     "output_type": "stream",
     "name": "stdout",
     "output_type": "stream",
     "text": [
      "Out[27]: array(['Vegan', 'Vegetarian', 'Omnivore', 'Keto'], dtype=object)"
     ]
    }
   ],
   "source": [
    "df['tipo_dieta'].unique()"
   ]
  },
  {
   "cell_type": "code",
   "execution_count": 0,
   "metadata": {
    "application/vnd.databricks.v1+cell": {
     "cellMetadata": {
      "byteLimit": 2048000,
      "rowLimit": 10000
     },
     "inputWidgets": {},
     "nuid": "c946bf11-c4f0-43fd-85ca-ae0c179bad66",
     "showTitle": false,
     "tableResultSettingsMap": {},
     "title": ""
    }
   },
   "outputs": [],
   "source": [
    "df['tipo_dieta'] = df['tipo_dieta'].map({\n",
    "    'Vegan': 'Vegana',\n",
    "    'Vegetarian': 'Vegetariana',\n",
    "    'Omnivore': 'Onívora',\n",
    "    'Keto': 'Cetogênica'\n",
    "})"
   ]
  },
  {
   "cell_type": "code",
   "execution_count": 0,
   "metadata": {
    "application/vnd.databricks.v1+cell": {
     "cellMetadata": {
      "byteLimit": 2048000,
      "rowLimit": 10000
     },
     "inputWidgets": {},
     "nuid": "8f6c8cc2-5fa7-45e5-9c09-e0bcb37f8b61",
     "showTitle": false,
     "tableResultSettingsMap": {},
     "title": ""
    }
   },
   "outputs": [
    {
     "output_type": "stream",
     "name": "stdout",
     "output_type": "stream",
     "text": [
      "Out[29]: array(['Strength', 'Cardio', 'Mixed', 'None'], dtype=object)"
     ]
    }
   ],
   "source": [
    "df['tipo_exercicio'].unique()"
   ]
  },
  {
   "cell_type": "code",
   "execution_count": 0,
   "metadata": {
    "application/vnd.databricks.v1+cell": {
     "cellMetadata": {
      "byteLimit": 2048000,
      "rowLimit": 10000
     },
     "inputWidgets": {},
     "nuid": "32755f31-4fc7-4e36-ae40-374933a6b5c3",
     "showTitle": false,
     "tableResultSettingsMap": {},
     "title": ""
    }
   },
   "outputs": [],
   "source": [
    "df['tipo_exercicio'] = df['tipo_exercicio'].map({\n",
    "    'Strength': 'Musculação',\n",
    "    'Cardio': 'Cardio',\n",
    "    'Mixed': 'Misto',\n",
    "    'None': 'Nenhum'\n",
    "})"
   ]
  },
  {
   "cell_type": "code",
   "execution_count": 0,
   "metadata": {
    "application/vnd.databricks.v1+cell": {
     "cellMetadata": {
      "byteLimit": 2048000,
      "rowLimit": 10000
     },
     "inputWidgets": {},
     "nuid": "9b993b7f-63cf-4c1a-a9d5-ab5da6443cd8",
     "showTitle": false,
     "tableResultSettingsMap": {},
     "title": ""
    }
   },
   "outputs": [
    {
     "output_type": "stream",
     "name": "stdout",
     "output_type": "stream",
     "text": [
      "Out[31]: array(['High', 'Moderate', 'Low'], dtype=object)"
     ]
    }
   ],
   "source": [
    "df['uso_dispositivos'].unique()"
   ]
  },
  {
   "cell_type": "code",
   "execution_count": 0,
   "metadata": {
    "application/vnd.databricks.v1+cell": {
     "cellMetadata": {
      "byteLimit": 2048000,
      "rowLimit": 10000
     },
     "inputWidgets": {},
     "nuid": "cc527417-4b41-4615-ad75-340baccd3a79",
     "showTitle": false,
     "tableResultSettingsMap": {},
     "title": ""
    }
   },
   "outputs": [],
   "source": [
    "df['uso_dispositivos'] = df['uso_dispositivos'].map({\n",
    "    'High': 'Alto',\n",
    "    'Moderate': 'Moderado',\n",
    "    'Low': 'Baixo'\n",
    "})"
   ]
  },
  {
   "cell_type": "code",
   "execution_count": 0,
   "metadata": {
    "application/vnd.databricks.v1+cell": {
     "cellMetadata": {
      "byteLimit": 2048000,
      "rowLimit": 10000
     },
     "inputWidgets": {},
     "nuid": "d41e656e-2006-4f79-829f-cf6bfab17b0c",
     "showTitle": false,
     "tableResultSettingsMap": {},
     "title": ""
    }
   },
   "outputs": [
    {
     "output_type": "stream",
     "name": "stdout",
     "output_type": "stream",
     "text": [
      "Out[33]: array(['Poor', 'Moderate', 'Good'], dtype=object)"
     ]
    }
   ],
   "source": [
    "df['acesso_saude'].unique()"
   ]
  },
  {
   "cell_type": "code",
   "execution_count": 0,
   "metadata": {
    "application/vnd.databricks.v1+cell": {
     "cellMetadata": {
      "byteLimit": 2048000,
      "rowLimit": 10000
     },
     "inputWidgets": {},
     "nuid": "26b25459-2c34-4e49-b21a-207d2bf69676",
     "showTitle": false,
     "tableResultSettingsMap": {},
     "title": ""
    }
   },
   "outputs": [],
   "source": [
    "df['acesso_saude'] = df['acesso_saude'].map({\n",
    "    'Poor': 'Ruim',\n",
    "    'Moderate': 'Moderado',\n",
    "    'Good': 'Bom'\n",
    "})"
   ]
  },
  {
   "cell_type": "code",
   "execution_count": 0,
   "metadata": {
    "application/vnd.databricks.v1+cell": {
     "cellMetadata": {
      "byteLimit": 2048000,
      "rowLimit": 10000
     },
     "inputWidgets": {},
     "nuid": "4a285b27-aac3-423e-a16c-a34d4e4d76e5",
     "showTitle": false,
     "tableResultSettingsMap": {},
     "title": ""
    }
   },
   "outputs": [
    {
     "output_type": "stream",
     "name": "stdout",
     "output_type": "stream",
     "text": [
      "Out[35]: array(['No', 'Yes'], dtype=object)"
     ]
    }
   ],
   "source": [
    "df['seguro_saude'].unique()"
   ]
  },
  {
   "cell_type": "code",
   "execution_count": 0,
   "metadata": {
    "application/vnd.databricks.v1+cell": {
     "cellMetadata": {
      "byteLimit": 2048000,
      "rowLimit": 10000
     },
     "inputWidgets": {},
     "nuid": "452d218f-d2e2-46f0-9799-9020e883f3c7",
     "showTitle": false,
     "tableResultSettingsMap": {},
     "title": ""
    }
   },
   "outputs": [],
   "source": [
    "df['seguro_saude'] = df['seguro_saude'].map({\n",
    "    'No': 'Não',\n",
    "    'Yes': 'Sim'\n",
    "})"
   ]
  },
  {
   "cell_type": "code",
   "execution_count": 0,
   "metadata": {
    "application/vnd.databricks.v1+cell": {
     "cellMetadata": {
      "byteLimit": 2048000,
      "rowLimit": 10000
     },
     "inputWidgets": {},
     "nuid": "0e942c0e-60d9-424c-bda1-19adf95863c3",
     "showTitle": false,
     "tableResultSettingsMap": {},
     "title": ""
    }
   },
   "outputs": [
    {
     "output_type": "stream",
     "name": "stdout",
     "output_type": "stream",
     "text": [
      "Out[37]: array(['High', 'Low', 'Moderate'], dtype=object)"
     ]
    }
   ],
   "source": [
    "df['exposicao_sol'].unique()"
   ]
  },
  {
   "cell_type": "code",
   "execution_count": 0,
   "metadata": {
    "application/vnd.databricks.v1+cell": {
     "cellMetadata": {
      "byteLimit": 2048000,
      "rowLimit": 10000
     },
     "inputWidgets": {},
     "nuid": "8c81b467-67c7-449a-8317-02cc53cd22fd",
     "showTitle": false,
     "tableResultSettingsMap": {},
     "title": ""
    }
   },
   "outputs": [],
   "source": [
    "df['exposicao_sol'] = df['exposicao_sol'].map({\n",
    "    'High': 'Alto',\n",
    "    'Moderate': 'Moderado',\n",
    "    'Low': 'Baixo'\n",
    "})"
   ]
  },
  {
   "cell_type": "code",
   "execution_count": 0,
   "metadata": {
    "application/vnd.databricks.v1+cell": {
     "cellMetadata": {
      "byteLimit": 2048000,
      "rowLimit": 10000
     },
     "inputWidgets": {},
     "nuid": "d25bb251-d941-4bf2-a384-a0b4f2d37eb0",
     "showTitle": false,
     "tableResultSettingsMap": {},
     "title": ""
    }
   },
   "outputs": [
    {
     "output_type": "stream",
     "name": "stdout",
     "output_type": "stream",
     "text": [
      "Out[39]: array(['No', 'Yes'], dtype=object)"
     ]
    }
   ],
   "source": [
    "df['historico_familiar'].unique()"
   ]
  },
  {
   "cell_type": "code",
   "execution_count": 0,
   "metadata": {
    "application/vnd.databricks.v1+cell": {
     "cellMetadata": {
      "byteLimit": 2048000,
      "rowLimit": 10000
     },
     "inputWidgets": {},
     "nuid": "b6513b3a-2ca8-4581-8c26-1f2dd1038b25",
     "showTitle": false,
     "tableResultSettingsMap": {},
     "title": ""
    }
   },
   "outputs": [],
   "source": [
    "df['historico_familiar'] = df['historico_familiar'].map({\n",
    "    'No': 'Não',\n",
    "    'Yes': 'Sim'\n",
    "})"
   ]
  },
  {
   "cell_type": "code",
   "execution_count": 0,
   "metadata": {
    "application/vnd.databricks.v1+cell": {
     "cellMetadata": {
      "byteLimit": 2048000,
      "rowLimit": 10000
     },
     "inputWidgets": {},
     "nuid": "90ac2025-1d11-48a7-bc2b-b5af21ca6e72",
     "showTitle": false,
     "tableResultSettingsMap": {},
     "title": ""
    }
   },
   "outputs": [
    {
     "output_type": "stream",
     "name": "stdout",
     "output_type": "stream",
     "text": [
      "Out[41]: array(['Yes', 'No'], dtype=object)"
     ]
    }
   ],
   "source": [
    "df['possui_pet'].unique()"
   ]
  },
  {
   "cell_type": "code",
   "execution_count": 0,
   "metadata": {
    "application/vnd.databricks.v1+cell": {
     "cellMetadata": {
      "byteLimit": 2048000,
      "rowLimit": 10000
     },
     "inputWidgets": {},
     "nuid": "66f68a23-5763-4b01-8357-593ccd346c88",
     "showTitle": false,
     "tableResultSettingsMap": {},
     "title": ""
    }
   },
   "outputs": [],
   "source": [
    "df['possui_pet'] = df['possui_pet'].map({\n",
    "    'No': 'Não',\n",
    "    'Yes': 'Sim'\n",
    "})"
   ]
  },
  {
   "cell_type": "code",
   "execution_count": 0,
   "metadata": {
    "application/vnd.databricks.v1+cell": {
     "cellMetadata": {
      "byteLimit": 2048000,
      "rowLimit": 10000
     },
     "inputWidgets": {},
     "nuid": "397cbe97-2e56-475a-a89c-c9c4627f4cf8",
     "showTitle": false,
     "tableResultSettingsMap": {},
     "title": ""
    }
   },
   "outputs": [
    {
     "output_type": "stream",
     "name": "stdout",
     "output_type": "stream",
     "text": [
      "Out[43]: array(['healthy', 'diseased'], dtype=object)"
     ]
    }
   ],
   "source": [
    "df['alvo'].unique()"
   ]
  },
  {
   "cell_type": "code",
   "execution_count": 0,
   "metadata": {
    "application/vnd.databricks.v1+cell": {
     "cellMetadata": {
      "byteLimit": 2048000,
      "rowLimit": 10000
     },
     "inputWidgets": {},
     "nuid": "50b25468-e507-4ee3-8ab6-83df622d2f03",
     "showTitle": false,
     "tableResultSettingsMap": {},
     "title": ""
    }
   },
   "outputs": [],
   "source": [
    "df['alvo'] = df['alvo'].map({\n",
    "    'healthy': 'Saudável',\n",
    "    'diseased': 'Doente'\n",
    "})"
   ]
  },
  {
   "cell_type": "code",
   "execution_count": 0,
   "metadata": {
    "application/vnd.databricks.v1+cell": {
     "cellMetadata": {
      "byteLimit": 2048000,
      "rowLimit": 10000
     },
     "inputWidgets": {},
     "nuid": "07ddc499-298f-410c-8efb-c61d027bd747",
     "showTitle": false,
     "tableResultSettingsMap": {},
     "title": ""
    }
   },
   "outputs": [
    {
     "output_type": "display_data",
     "data": {
      "text/html": [
       "<div>\n",
       "<style scoped>\n",
       "    .dataframe tbody tr th:only-of-type {\n",
       "        vertical-align: middle;\n",
       "    }\n",
       "\n",
       "    .dataframe tbody tr th {\n",
       "        vertical-align: top;\n",
       "    }\n",
       "\n",
       "    .dataframe thead th {\n",
       "        text-align: right;\n",
       "    }\n",
       "</style>\n",
       "<table border=\"1\" class=\"dataframe\">\n",
       "  <thead>\n",
       "    <tr style=\"text-align: right;\">\n",
       "      <th></th>\n",
       "      <th>codigo_pesquisa</th>\n",
       "      <th>idade</th>\n",
       "      <th>genero</th>\n",
       "      <th>altura</th>\n",
       "      <th>peso</th>\n",
       "      <th>imc</th>\n",
       "      <th>imc_estimado</th>\n",
       "      <th>imc_normalizado</th>\n",
       "      <th>imc_corrigido</th>\n",
       "      <th>circunferencia_cintura</th>\n",
       "      <th>...</th>\n",
       "      <th>exposicao_sol</th>\n",
       "      <th>refeicoes_dia</th>\n",
       "      <th>consumo_cafeina</th>\n",
       "      <th>historico_familiar</th>\n",
       "      <th>possui_pet</th>\n",
       "      <th>nivel_eletrolitos</th>\n",
       "      <th>marcador_genetico</th>\n",
       "      <th>pontuacao_risco_ambiental</th>\n",
       "      <th>dosagem_suplementos_diaria</th>\n",
       "      <th>alvo</th>\n",
       "    </tr>\n",
       "  </thead>\n",
       "  <tbody>\n",
       "    <tr>\n",
       "      <th>0</th>\n",
       "      <td>1</td>\n",
       "      <td>56</td>\n",
       "      <td>Masculino</td>\n",
       "      <td>173.416872</td>\n",
       "      <td>56.886640</td>\n",
       "      <td>18.915925</td>\n",
       "      <td>18.915925</td>\n",
       "      <td>56.747776</td>\n",
       "      <td>18.989117</td>\n",
       "      <td>72.165130</td>\n",
       "      <td>...</td>\n",
       "      <td>Alto</td>\n",
       "      <td>5</td>\n",
       "      <td>Moderado</td>\n",
       "      <td>Não</td>\n",
       "      <td>Sim</td>\n",
       "      <td>0</td>\n",
       "      <td>1.0</td>\n",
       "      <td>5.5</td>\n",
       "      <td>-2.275502</td>\n",
       "      <td>Saudável</td>\n",
       "    </tr>\n",
       "    <tr>\n",
       "      <th>1</th>\n",
       "      <td>2</td>\n",
       "      <td>69</td>\n",
       "      <td>Feminino</td>\n",
       "      <td>163.207380</td>\n",
       "      <td>97.799859</td>\n",
       "      <td>36.716278</td>\n",
       "      <td>36.716278</td>\n",
       "      <td>110.148833</td>\n",
       "      <td>36.511417</td>\n",
       "      <td>85.598889</td>\n",
       "      <td>...</td>\n",
       "      <td>Alto</td>\n",
       "      <td>5</td>\n",
       "      <td>Alto</td>\n",
       "      <td>Sim</td>\n",
       "      <td>Não</td>\n",
       "      <td>0</td>\n",
       "      <td>1.0</td>\n",
       "      <td>5.5</td>\n",
       "      <td>6.239340</td>\n",
       "      <td>Saudável</td>\n",
       "    </tr>\n",
       "    <tr>\n",
       "      <th>2</th>\n",
       "      <td>3</td>\n",
       "      <td>46</td>\n",
       "      <td>Masculino</td>\n",
       "      <td>177.281966</td>\n",
       "      <td>80.687562</td>\n",
       "      <td>25.673050</td>\n",
       "      <td>25.673050</td>\n",
       "      <td>77.019151</td>\n",
       "      <td>25.587429</td>\n",
       "      <td>90.295030</td>\n",
       "      <td>...</td>\n",
       "      <td>Alto</td>\n",
       "      <td>4</td>\n",
       "      <td>Moderado</td>\n",
       "      <td>Não</td>\n",
       "      <td>Não</td>\n",
       "      <td>0</td>\n",
       "      <td>1.0</td>\n",
       "      <td>5.5</td>\n",
       "      <td>5.423737</td>\n",
       "      <td>Saudável</td>\n",
       "    </tr>\n",
       "    <tr>\n",
       "      <th>3</th>\n",
       "      <td>4</td>\n",
       "      <td>32</td>\n",
       "      <td>Feminino</td>\n",
       "      <td>172.101255</td>\n",
       "      <td>63.142868</td>\n",
       "      <td>21.318480</td>\n",
       "      <td>21.318480</td>\n",
       "      <td>63.955440</td>\n",
       "      <td>21.177109</td>\n",
       "      <td>100.504211</td>\n",
       "      <td>...</td>\n",
       "      <td>Alto</td>\n",
       "      <td>1</td>\n",
       "      <td>Nenhum</td>\n",
       "      <td>Não</td>\n",
       "      <td>Sim</td>\n",
       "      <td>0</td>\n",
       "      <td>1.0</td>\n",
       "      <td>5.5</td>\n",
       "      <td>8.388611</td>\n",
       "      <td>Saudável</td>\n",
       "    </tr>\n",
       "    <tr>\n",
       "      <th>4</th>\n",
       "      <td>5</td>\n",
       "      <td>60</td>\n",
       "      <td>Feminino</td>\n",
       "      <td>163.608816</td>\n",
       "      <td>40.000000</td>\n",
       "      <td>14.943302</td>\n",
       "      <td>14.943302</td>\n",
       "      <td>44.829907</td>\n",
       "      <td>14.844299</td>\n",
       "      <td>69.021150</td>\n",
       "      <td>...</td>\n",
       "      <td>Alto</td>\n",
       "      <td>1</td>\n",
       "      <td>Alto</td>\n",
       "      <td>Sim</td>\n",
       "      <td>Sim</td>\n",
       "      <td>0</td>\n",
       "      <td>1.0</td>\n",
       "      <td>5.5</td>\n",
       "      <td>0.332622</td>\n",
       "      <td>Saudável</td>\n",
       "    </tr>\n",
       "  </tbody>\n",
       "</table>\n",
       "<p>5 rows × 48 columns</p>\n",
       "</div>"
      ]
     },
     "metadata": {
      "application/vnd.databricks.v1+output": {
       "addedWidgets": {},
       "arguments": {},
       "data": "<div>\n<style scoped>\n    .dataframe tbody tr th:only-of-type {\n        vertical-align: middle;\n    }\n\n    .dataframe tbody tr th {\n        vertical-align: top;\n    }\n\n    .dataframe thead th {\n        text-align: right;\n    }\n</style>\n<table border=\"1\" class=\"dataframe\">\n  <thead>\n    <tr style=\"text-align: right;\">\n      <th></th>\n      <th>codigo_pesquisa</th>\n      <th>idade</th>\n      <th>genero</th>\n      <th>altura</th>\n      <th>peso</th>\n      <th>imc</th>\n      <th>imc_estimado</th>\n      <th>imc_normalizado</th>\n      <th>imc_corrigido</th>\n      <th>circunferencia_cintura</th>\n      <th>...</th>\n      <th>exposicao_sol</th>\n      <th>refeicoes_dia</th>\n      <th>consumo_cafeina</th>\n      <th>historico_familiar</th>\n      <th>possui_pet</th>\n      <th>nivel_eletrolitos</th>\n      <th>marcador_genetico</th>\n      <th>pontuacao_risco_ambiental</th>\n      <th>dosagem_suplementos_diaria</th>\n      <th>alvo</th>\n    </tr>\n  </thead>\n  <tbody>\n    <tr>\n      <th>0</th>\n      <td>1</td>\n      <td>56</td>\n      <td>Masculino</td>\n      <td>173.416872</td>\n      <td>56.886640</td>\n      <td>18.915925</td>\n      <td>18.915925</td>\n      <td>56.747776</td>\n      <td>18.989117</td>\n      <td>72.165130</td>\n      <td>...</td>\n      <td>Alto</td>\n      <td>5</td>\n      <td>Moderado</td>\n      <td>Não</td>\n      <td>Sim</td>\n      <td>0</td>\n      <td>1.0</td>\n      <td>5.5</td>\n      <td>-2.275502</td>\n      <td>Saudável</td>\n    </tr>\n    <tr>\n      <th>1</th>\n      <td>2</td>\n      <td>69</td>\n      <td>Feminino</td>\n      <td>163.207380</td>\n      <td>97.799859</td>\n      <td>36.716278</td>\n      <td>36.716278</td>\n      <td>110.148833</td>\n      <td>36.511417</td>\n      <td>85.598889</td>\n      <td>...</td>\n      <td>Alto</td>\n      <td>5</td>\n      <td>Alto</td>\n      <td>Sim</td>\n      <td>Não</td>\n      <td>0</td>\n      <td>1.0</td>\n      <td>5.5</td>\n      <td>6.239340</td>\n      <td>Saudável</td>\n    </tr>\n    <tr>\n      <th>2</th>\n      <td>3</td>\n      <td>46</td>\n      <td>Masculino</td>\n      <td>177.281966</td>\n      <td>80.687562</td>\n      <td>25.673050</td>\n      <td>25.673050</td>\n      <td>77.019151</td>\n      <td>25.587429</td>\n      <td>90.295030</td>\n      <td>...</td>\n      <td>Alto</td>\n      <td>4</td>\n      <td>Moderado</td>\n      <td>Não</td>\n      <td>Não</td>\n      <td>0</td>\n      <td>1.0</td>\n      <td>5.5</td>\n      <td>5.423737</td>\n      <td>Saudável</td>\n    </tr>\n    <tr>\n      <th>3</th>\n      <td>4</td>\n      <td>32</td>\n      <td>Feminino</td>\n      <td>172.101255</td>\n      <td>63.142868</td>\n      <td>21.318480</td>\n      <td>21.318480</td>\n      <td>63.955440</td>\n      <td>21.177109</td>\n      <td>100.504211</td>\n      <td>...</td>\n      <td>Alto</td>\n      <td>1</td>\n      <td>Nenhum</td>\n      <td>Não</td>\n      <td>Sim</td>\n      <td>0</td>\n      <td>1.0</td>\n      <td>5.5</td>\n      <td>8.388611</td>\n      <td>Saudável</td>\n    </tr>\n    <tr>\n      <th>4</th>\n      <td>5</td>\n      <td>60</td>\n      <td>Feminino</td>\n      <td>163.608816</td>\n      <td>40.000000</td>\n      <td>14.943302</td>\n      <td>14.943302</td>\n      <td>44.829907</td>\n      <td>14.844299</td>\n      <td>69.021150</td>\n      <td>...</td>\n      <td>Alto</td>\n      <td>1</td>\n      <td>Alto</td>\n      <td>Sim</td>\n      <td>Sim</td>\n      <td>0</td>\n      <td>1.0</td>\n      <td>5.5</td>\n      <td>0.332622</td>\n      <td>Saudável</td>\n    </tr>\n  </tbody>\n</table>\n<p>5 rows × 48 columns</p>\n</div>",
       "datasetInfos": [],
       "metadata": {},
       "removedWidgets": [],
       "textData": null,
       "type": "htmlSandbox"
      }
     },
     "output_type": "display_data"
    }
   ],
   "source": [
    "df.head()"
   ]
  },
  {
   "cell_type": "markdown",
   "metadata": {
    "application/vnd.databricks.v1+cell": {
     "cellMetadata": {},
     "inputWidgets": {},
     "nuid": "7fd460b7-0212-40e4-87be-de76c7b78b00",
     "showTitle": false,
     "tableResultSettingsMap": {},
     "title": ""
    }
   },
   "source": [
    "**Verificando e tratando valores nulos**\n",
    "\n",
    "Os valores nulos foram tratados utilizando a mediana para variáveis numéricas, preservando a distribuição dos dados. Para variáveis categóricas e campos descritivos, foi criada uma categoria adicional como \"Desconhecido\" ou \"Não informado\", garantindo a integridade das informações sem perda de registros."
   ]
  },
  {
   "cell_type": "code",
   "execution_count": 0,
   "metadata": {
    "application/vnd.databricks.v1+cell": {
     "cellMetadata": {
      "byteLimit": 2048000,
      "rowLimit": 10000
     },
     "inputWidgets": {},
     "nuid": "78737174-2822-4e1a-bdcd-d92137c5697a",
     "showTitle": false,
     "tableResultSettingsMap": {},
     "title": ""
    }
   },
   "outputs": [
    {
     "output_type": "stream",
     "name": "stdout",
     "output_type": "stream",
     "text": [
      "Out[46]: pressao_arterial        7669\nfrequencia_cardiaca    14003\ninsulina               15836\npassos_diarios          8329\nconsumo_alcool         13910\nrenda                   8470\nmarcador_genetico      10474\ndtype: int64"
     ]
    }
   ],
   "source": [
    "df.isnull().sum()[df.isnull().sum() > 0]\n"
   ]
  },
  {
   "cell_type": "code",
   "execution_count": 0,
   "metadata": {
    "application/vnd.databricks.v1+cell": {
     "cellMetadata": {
      "byteLimit": 2048000,
      "rowLimit": 10000
     },
     "inputWidgets": {},
     "nuid": "2319c1ba-a03a-4e07-bab6-788c499ced6d",
     "showTitle": false,
     "tableResultSettingsMap": {},
     "title": ""
    }
   },
   "outputs": [
    {
     "output_type": "stream",
     "name": "stdout",
     "output_type": "stream",
     "text": [
      "Out[55]: <bound method Series.unique of 0        1.0\n1        1.0\n2        1.0\n3        1.0\n4        1.0\n        ... \n99995    1.0\n99996    1.0\n99997    1.0\n99998    1.0\n99999    1.0\nName: marcador_genetico, Length: 100000, dtype: object>"
     ]
    }
   ],
   "source": [
    "df['marcador_genetico']"
   ]
  },
  {
   "cell_type": "code",
   "execution_count": 0,
   "metadata": {
    "application/vnd.databricks.v1+cell": {
     "cellMetadata": {
      "byteLimit": 2048000,
      "rowLimit": 10000
     },
     "inputWidgets": {},
     "nuid": "1db32763-22c3-4add-a191-f9d940904ac6",
     "showTitle": false,
     "tableResultSettingsMap": {},
     "title": ""
    }
   },
   "outputs": [],
   "source": [
    "df['pressao_arterial'].fillna(df['pressao_arterial'].median(), inplace=True)\n",
    "df['frequencia_cardiaca'].fillna(df['frequencia_cardiaca'].median(), inplace=True)\n",
    "df['insulina'].fillna(df['insulina'].median(), inplace=True)\n",
    "df['passos_diarios'].fillna(0, inplace=True)\n",
    "df['consumo_alcool'].fillna('Não informado', inplace=True)\n",
    "df['renda'].fillna(df['renda'].median(), inplace=True)\n",
    "df['marcador_genetico'] = df['marcador_genetico'].astype(str).fillna('Desconhecido')\n"
   ]
  },
  {
   "cell_type": "markdown",
   "metadata": {
    "application/vnd.databricks.v1+cell": {
     "cellMetadata": {},
     "inputWidgets": {},
     "nuid": "05bf6f7c-8cbb-4d30-899c-b21c51218601",
     "showTitle": false,
     "tableResultSettingsMap": {},
     "title": ""
    }
   },
   "source": [
    "##Salvando base no Databricks"
   ]
  },
  {
   "cell_type": "code",
   "execution_count": 0,
   "metadata": {
    "application/vnd.databricks.v1+cell": {
     "cellMetadata": {
      "byteLimit": 2048000,
      "rowLimit": 10000
     },
     "inputWidgets": {},
     "nuid": "4cd5fe62-5ced-42ff-a1aa-f22417208dc0",
     "showTitle": false,
     "tableResultSettingsMap": {},
     "title": ""
    }
   },
   "outputs": [
    {
     "output_type": "stream",
     "name": "stdout",
     "output_type": "stream",
     "text": [
      "Collecting pyspark\r\n  Downloading pyspark-4.0.0.tar.gz (434.1 MB)\r\n\u001B[?25l\r\u001B[K     |                                | 10 kB 38.6 MB/s eta 0:00:12\r\u001B[K     |                                | 20 kB 41.5 MB/s eta 0:00:11\r\u001B[K     |                                | 30 kB 19.0 MB/s eta 0:00:23\r\u001B[K     |                                | 40 kB 6.1 MB/s eta 0:01:11\r\u001B[K     |                                | 51 kB 7.2 MB/s eta 0:01:01\r\u001B[K     |                                | 61 kB 8.1 MB/s eta 0:00:54\r\u001B[K     |                                | 71 kB 8.0 MB/s eta 0:00:55\r\u001B[K     |                                | 81 kB 8.9 MB/s eta 0:00:49\r\u001B[K     |                                | 92 kB 9.9 MB/s eta 0:00:44\r\u001B[K     |                                | 102 kB 6.9 MB/s eta 0:01:03\r\u001B[K     |                                | 112 kB 6.9 MB/s eta 0:01:03\r\u001B[K     |                                | 122 kB 6.9 MB/s eta 0:01:03\r\u001B[K     |                                | 133 kB 6.9 MB/s eta 0:01:03\r\u001B[K     |                                | 143 kB 6.9 MB/s eta 0:01:03\r\u001B[K     |                                | 153 kB 6.9 MB/s eta 0:01:03\r\u001B[K     |                                | 163 kB 6.9 MB/s eta 0:01:03\r\u001B[K     |                                | 174 kB 6.9 MB/s eta 0:01:03\r\u001B[K     |                                | 184 kB 6.9 MB/s eta 0:01:03\r\u001B[K     |                                | 194 kB 6.9 MB/s eta 0:01:03\r\u001B[K     |                                | 204 kB 6.9 MB/s eta 0:01:03\r\u001B[K     |                                | 215 kB 6.9 MB/s eta 0:01:03\r\u001B[K     |                                | 225 kB 6.9 MB/s eta 0:01:03\r\u001B[K     |                                | 235 kB 6.9 MB/s eta 0:01:03\r\u001B[K     |                                | 245 kB 6.9 MB/s eta 0:01:03\r\u001B[K     |                                | 256 kB 6.9 MB/s eta 0:01:03\r\u001B[K     |                                | 266 kB 6.9 MB/s eta 0:01:03\r\u001B[K     |                                | 276 kB 6.9 MB/s eta 0:01:03\r\u001B[K     |                                | 286 kB 6.9 MB/s eta 0:01:03\r\u001B[K     |                                | 296 kB 6.9 MB/s eta 0:01:03\r\u001B[K     |                                | 307 kB 6.9 MB/s eta 0:01:03\r\u001B[K     |                                | 317 kB 6.9 MB/s eta 0:01:03\r\u001B[K     |                                | 327 kB 6.9 MB/s eta 0:01:03\r\u001B[K     |                                | 337 kB 6.9 MB/s eta 0:01:03\r\u001B[K     |                                | 348 kB 6.9 MB/s eta 0:01:03\r\u001B[K     |                                | 358 kB 6.9 MB/s eta 0:01:03\r\u001B[K     |                                | 368 kB 6.9 MB/s eta 0:01:03\r\u001B[K     |                                | 378 kB 6.9 MB/s eta 0:01:03\r\u001B[K     |                                | 389 kB 6.9 MB/s eta 0:01:03\r\u001B[K     |                                | 399 kB 6.9 MB/s eta 0:01:03\r\u001B[K     |                                | 409 kB 6.9 MB/s eta 0:01:03\r\u001B[K     |                                | 419 kB 6.9 MB/s eta 0:01:03\r\u001B[K     |                                | 430 kB 6.9 MB/s eta 0:01:03\r\u001B[K     |                                | 440 kB 6.9 MB/s eta 0:01:03\r\u001B[K     |                                | 450 kB 6.9 MB/s eta 0:01:03\r\u001B[K     |                                | 460 kB 6.9 MB/s eta 0:01:03\r\u001B[K     |                                | 471 kB 6.9 MB/s eta 0:01:03\r\u001B[K     |                                | 481 kB 6.9 MB/s eta 0:01:03\r\u001B[K     |                                | 491 kB 6.9 MB/s eta 0:01:03\r\u001B[K     |                                | 501 kB 6.9 MB/s eta 0:01:03\r\u001B[K     |                                | 512 kB 6.9 MB/s eta 0:01:03\r\u001B[K     |                                | 522 kB 6.9 MB/s eta 0:01:03\r\u001B[K     |                                | 532 kB 6.9 MB/s eta 0:01:03\r\u001B[K     |                                | 542 kB 6.9 MB/s eta 0:01:03\r\u001B[K     |                                | 552 kB 6.9 MB/s eta 0:01:03\r\u001B[K     |                                | 563 kB 6.9 MB/s eta 0:01:03\r\u001B[K     |                                | 573 kB 6.9 MB/s eta 0:01:03\r\u001B[K     |                                | 583 kB 6.9 MB/s eta 0:01:03\r\u001B[K     |                                | 593 kB 6.9 MB/s eta 0:01:03\r\u001B[K     |                                | 604 kB 6.9 MB/s eta 0:01:03\r\u001B[K     |                                | 614 kB 6.9 MB/s eta 0:01:03\r\u001B[K     |                                | 624 kB 6.9 MB/s eta 0:01:03\r\u001B[K     |                                | 634 kB 6.9 MB/s eta 0:01:03\r\u001B[K     |                                | 645 kB 6.9 MB/s eta 0:01:03\r\u001B[K     |                                | 655 kB 6.9 MB/s eta 0:01:03\r\u001B[K     |                                | 665 kB 6.9 MB/s eta 0:01:03\r\u001B[K     |                                | 675 kB 6.9 MB/s eta 0:01:03\r\u001B[K     |                                | 686 kB 6.9 MB/s eta 0:01:03\r\u001B[K     |                                | 696 kB 6.9 MB/s eta 0:01:03\r\u001B[K     |                                | 706 kB 6.9 MB/s eta 0:01:03\r\u001B[K     |                                | 716 kB 6.9 MB/s eta 0:01:03\r\u001B[K     |                                | 727 kB 6.9 MB/s eta 0:01:03\r\u001B[K     |                                | 737 kB 6.9 MB/s eta 0:01:03\r\u001B[K     |                                | 747 kB 6.9 MB/s eta 0:01:03\r\u001B[K     |                                | 757 kB 6.9 MB/s eta 0:01:03\r\u001B[K     |                                | 768 kB 6.9 MB/s eta 0:01:03\r\u001B[K     |                                | 778 kB 6.9 MB/s eta 0:01:03\r\u001B[K     |                                | 788 kB 6.9 MB/s eta 0:01:03\r\u001B[K     |                                | 798 kB 6.9 MB/s eta 0:01:03\r\u001B[K     |                                | 808 kB 6.9 MB/s eta 0:01:03\r\u001B[K     |                                | 819 kB 6.9 MB/s eta 0:01:03\r\u001B[K     |                                | 829 kB 6.9 MB/s eta 0:01:03\r\u001B[K     |                                | 839 kB 6.9 MB/s eta 0:01:03\r\u001B[K     |                                | 849 kB 6.9 MB/s eta 0:01:03\r\u001B[K     |                                | 860 kB 6.9 MB/s eta 0:01:03\r\u001B[K     |                                | 870 kB 6.9 MB/s eta 0:01:03\r\u001B[K     |                                | 880 kB 6.9 MB/s eta 0:01:03\r\u001B[K     |                                | 890 kB 6.9 MB/s eta 0:01:03\r\u001B[K     |                                | 901 kB 6.9 MB/s eta 0:01:03\r\u001B[K     |                                | 911 kB 6.9 MB/s eta 0:01:03\r\u001B[K     |                                | 921 kB 6.9 MB/s eta 0:01:03\r\u001B[K     |                                | 931 kB 6.9 MB/s eta 0:01:03\r\u001B[K     |                                | 942 kB 6.9 MB/s eta 0:01:03\r\u001B[K     |                                | 952 kB 6.9 MB/s eta 0:01:03\r\u001B[K     |                                | 962 kB 6.9 MB/s eta 0:01:03\r\u001B[K     |                                | 972 kB 6.9 MB/s eta 0:01:03\r\u001B[K     |                                | 983 kB 6.9 MB/s eta 0:01:03\r\u001B[K     |                                | 993 kB 6.9 MB/s eta 0:01:03\r\u001B[K     |                                | 1.0 MB 6.9 MB/s eta 0:01:03\r\u001B[K     |                                | 1.0 MB 6.9 MB/s eta 0:01:03\r\u001B[K     |                                | 1.0 MB 6.9 MB/s eta 0:01:03\r\u001B[K     |                                | 1.0 MB 6.9 MB/s eta 0:01:03\r\u001B[K     |                                | 1.0 MB 6.9 MB/s eta 0:01:03\r\u001B[K     |                                | 1.1 MB 6.9 MB/s eta 0:01:03\r\u001B[K     |                                | 1.1 MB 6.9 MB/s eta 0:01:03\r\u001B[K     |                                | 1.1 MB 6.9 MB/s eta 0:01:03\r\u001B[K     |                                | 1.1 MB 6.9 MB/s eta 0:01:03\r\u001B[K     |                                | 1.1 MB 6.9 MB/s eta 0:01:03\r\u001B[K     |                                | 1.1 MB 6.9 MB/s eta 0:01:03\r\u001B[K     |                                | 1.1 MB 6.9 MB/s eta 0:01:03\r\u001B[K     |                                | 1.1 MB 6.9 MB/s eta 0:01:03\r\u001B[K     |                                | 1.1 MB 6.9 MB/s eta 0:01:03\r\u001B[K     |                                | 1.1 MB 6.9 MB/s eta 0:01:03\r\u001B[K     |                                | 1.2 MB 6.9 MB/s eta 0:01:03\r\u001B[K     |                                | 1.2 MB 6.9 MB/s eta 0:01:03\r\u001B[K     |                                | 1.2 MB 6.9 MB/s eta 0:01:03\r\u001B[K     |                                | 1.2 MB 6.9 MB/s eta 0:01:03\r\u001B[K     |                                | 1.2 MB 6.9 MB/s eta 0:01:03\r\u001B[K     |                                | 1.2 MB 6.9 MB/s eta 0:01:03\r\u001B[K     |                                | 1.2 MB 6.9 MB/s eta 0:01:03\r\u001B[K     |                                | 1.2 MB 6.9 MB/s eta 0:01:03\r\u001B[K     |                                | 1.2 MB 6.9 MB/s eta 0:01:03\r\u001B[K     |                                | 1.2 MB 6.9 MB/s eta 0:01:03\r\u001B[K     |                                | 1.3 MB 6.9 MB/s eta 0:01:03\r\u001B[K     |                                | 1.3 MB 6.9 MB/s eta 0:01:03\r\u001B[K     |                                | 1.3 MB 6.9 MB/s eta 0:01:03\r\u001B[K     |                                | 1.3 MB 6.9 MB/s eta 0:01:03\r\u001B[K     |                                | 1.3 MB 6.9 MB/s eta 0:01:03\r\u001B[K     |                                | 1.3 MB 6.9 MB/s eta 0:01:03\r\u001B[K     |                                | 1.3 MB 6.9 MB/s eta 0:01:03\r\u001B[K     |                                | 1.3 MB 6.9 MB/s eta 0:01:03\r\u001B[K     |                                | 1.3 MB 6.9 MB/s eta 0:01:03\r\u001B[K     |                                | 1.4 MB 6.9 MB/s eta 0:01:03\r\u001B[K     |                                | 1.4 MB 6.9 MB/s eta 0:01:03\r\u001B[K     |                                | 1.4 MB 6.9 MB/s eta 0:01:03\r\u001B[K     |                                | 1.4 MB 6.9 MB/s eta 0:01:03\r\u001B[K     |                                | 1.4 MB 6.9 MB/s eta 0:01:03\r\u001B[K     |                                | 1.4 MB 6.9 MB/s eta 0:01:03\r\u001B[K     |                                | 1.4 MB 6.9 MB/s eta 0:01:03\r\u001B[K     |                                | 1.4 MB 6.9 MB/s eta 0:01:03\r\u001B[K     |                                | 1.4 MB 6.9 MB/s eta 0:01:03\r\u001B[K     |                                | 1.4 MB 6.9 MB/s eta 0:01:03\r\u001B[K     |                                | 1.5 MB 6.9 MB/s eta 0:01:03\r\u001B[K     |                                | 1.5 MB 6.9 MB/s eta 0:01:03\r\u001B[K     |                                | 1.5 MB 6.9 MB/s eta 0:01:03\r\u001B[K     |                                | 1.5 MB 6.9 MB/s eta 0:01:03\r\u001B[K     |                                | 1.5 MB 6.9 MB/s eta 0:01:03\r\u001B[K     |                                | 1.5 MB 6.9 MB/s eta 0:01:03\r\u001B[K     |▏                               | 1.5 MB 6.9 MB/s eta 0:01:03\r\u001B[K     |▏                               | 1.5 MB 6.9 MB/s eta 0:01:03\r\u001B[K     |▏                               | 1.5 MB 6.9 MB/s eta 0:01:03\r\u001B[K     |▏                               | 1.5 MB 6.9 MB/s eta 0:01:03\r\u001B[K     |▏                               | 1.6 MB 6.9 MB/s eta 0:01:03\r\u001B[K     |▏                               | 1.6 MB 6.9 MB/s eta 0:01:03\r\u001B[K     |▏                               | 1.6 MB 6.9 MB/s eta 0:01:03\r\u001B[K     |▏                               | 1.6 MB 6.9 MB/s eta 0:01:03\r\u001B[K     |▏                               | 1.6 MB 6.9 MB/s eta 0:01:03\r\u001B[K     |▏                               | 1.6 MB 6.9 MB/s eta 0:01:03\r\u001B[K     |▏                               | 1.6 MB 6.9 MB/s eta 0:01:03\r\u001B[K     |▏                               | 1.6 MB 6.9 MB/s eta 0:01:03\r\u001B[K     |▏                               | 1.6 MB 6.9 MB/s eta 0:01:03\r\u001B[K     |▏                               | 1.6 MB 6.9 MB/s eta 0:01:03\r\u001B[K     |▏                               | 1.7 MB 6.9 MB/s eta 0:01:03\r\u001B[K     |▏                               | 1.7 MB 6.9 MB/s eta 0:01:03\r\u001B[K     |▏                               | 1.7 MB 6.9 MB/s eta 0:01:03\r\u001B[K     |▏                               | 1.7 MB 6.9 MB/s eta 0:01:03\r\u001B[K     |▏                               | 1.7 MB 6.9 MB/s eta 0:01:03\r\u001B[K     |▏                               | 1.7 MB 6.9 MB/s eta 0:01:03\r\u001B[K     |▏                               | 1.7 MB 6.9 MB/s eta 0:01:03\r\u001B[K     |▏                               | 1.7 MB 6.9 MB/s eta 0:01:03\r\u001B[K     |▏                               | 1.7 MB 6.9 MB/s eta 0:01:03\r\u001B[K     |▏                               | 1.8 MB 6.9 MB/s eta 0:01:03\r\u001B[K     |▏                               | 1.8 MB 6.9 MB/s eta 0:01:03\r\u001B[K     |▏                               | 1.8 MB 6.9 MB/s eta 0:01:03\r\u001B[K     |▏                               | 1.8 MB 6.9 MB/s eta 0:01:03\r\u001B[K     |▏                               | 1.8 MB 6.9 MB/s eta 0:01:03\r\u001B[K     |▏                               | 1.8 MB 6.9 MB/s eta 0:01:03\r\u001B[K     |▏                               | 1.8 MB 6.9 MB/s eta 0:01:03\r\u001B[K     |▏                               | 1.8 MB 6.9 MB/s eta 0:01:03\r\u001B[K     |▏                               | 1.8 MB 6.9 MB/s eta 0:01:03\r\u001B[K     |▏                               | 1.8 MB 6.9 MB/s eta 0:01:03\r\u001B[K     |▏                               | 1.9 MB 6.9 MB/s eta 0:01:03\r\u001B[K     |▏                               | 1.9 MB 6.9 MB/s eta 0:01:03\r\u001B[K     |▏                               | 1.9 MB 6.9 MB/s eta 0:01:03\r\u001B[K     |▏                               | 1.9 MB 6.9 MB/s eta 0:01:03\r\u001B[K     |▏                               | 1.9 MB 6.9 MB/s eta 0:01:03\r\u001B[K     |▏                               | 1.9 MB 6.9 MB/s eta 0:01:03\r\u001B[K     |▏                               | 1.9 MB 6.9 MB/s eta 0:01:03\r\u001B[K     |▏                               | 1.9 MB 6.9 MB/s eta 0:01:03\r\u001B[K     |▏                               | 1.9 MB 6.9 MB/s eta 0:01:03\r\u001B[K     |▏                               | 1.9 MB 6.9 MB/s eta 0:01:03\r\u001B[K     |▏                               | 2.0 MB 6.9 MB/s eta 0:01:03\r\u001B[K     |▏                               | 2.0 MB 6.9 MB/s eta 0:01:03\r\u001B[K     |▏                               | 2.0 MB 6.9 MB/s eta 0:01:03\r\u001B[K     |▏                               | 2.0 MB 6.9 MB/s eta 0:01:03\r\u001B[K     |▏                               | 2.0 MB 6.9 MB/s eta 0:01:03\r\u001B[K     |▏                               | 2.0 MB 6.9 MB/s eta 0:01:03\r\u001B[K     |▏                               | 2.0 MB 6.9 MB/s eta 0:01:03\r\u001B[K     |▏                               | 2.0 MB 6.9 MB/s eta 0:01:03\r\u001B[K     |▏                               | 2.0 MB 6.9 MB/s eta 0:01:03\r\u001B[K     |▏                               | 2.0 MB 6.9 MB/s eta 0:01:03\r\u001B[K     |▏                               | 2.1 MB 6.9 MB/s eta 0:01:03\r\u001B[K     |▏                               | 2.1 MB 6.9 MB/s eta 0:01:03\r\u001B[K     |▏                               | 2.1 MB 6.9 MB/s eta 0:01:03\r\u001B[K     |▏                               | 2.1 MB 6.9 MB/s eta 0:01:03\r\u001B[K     |▏                               | 2.1 MB 6.9 MB/s eta 0:01:03\r\u001B[K     |▏                               | 2.1 MB 6.9 MB/s eta 0:01:03\r\u001B[K     |▏                               | 2.1 MB 6.9 MB/s eta 0:01:03\r\u001B[K     |▏                               | 2.1 MB 6.9 MB/s eta 0:01:03\r\u001B[K     |▏                               | 2.1 MB 6.9 MB/s eta 0:01:03\r\u001B[K     |▏                               | 2.2 MB 6.9 MB/s eta 0:01:03\r\u001B[K     |▏                               | 2.2 MB 6.9 MB/s eta 0:01:03\r\u001B[K     |▏                               | 2.2 MB 6.9 MB/s eta 0:01:03\r\u001B[K     |▏                               | 2.2 MB 6.9 MB/s eta 0:01:03\r\u001B[K     |▏                               | 2.2 MB 6.9 MB/s eta 0:01:03\r\u001B[K     |▏                               | 2.2 MB 6.9 MB/s eta 0:01:03\r\u001B[K     |▏                               | 2.2 MB 6.9 MB/s eta 0:01:03\r\u001B[K     |▏                               | 2.2 MB 6.9 MB/s eta 0:01:03\r\u001B[K     |▏                               | 2.2 MB 6.9 MB/s eta 0:01:03\r\u001B[K     |▏                               | 2.2 MB 6.9 MB/s eta 0:01:03\r\u001B[K     |▏                               | 2.3 MB 6.9 MB/s eta 0:01:03\r\u001B[K     |▏                               | 2.3 MB 6.9 MB/s eta 0:01:03\r\u001B[K     |▏                               | 2.3 MB 6.9 MB/s eta 0:01:03\r\u001B[K     |▏                               | 2.3 MB 6.9 MB/s eta 0:01:03\r\u001B[K     |▏                               | 2.3 MB 6.9 MB/s eta 0:01:03\r\u001B[K     |▏                               | 2.3 MB 6.9 MB/s eta 0:01:03\r\u001B[K     |▏                               | 2.3 MB 6.9 MB/s eta 0:01:03\r\u001B[K     |▏                               | 2.3 MB 6.9 MB/s eta 0:01:03\r\u001B[K     |▏                               | 2.3 MB 6.9 MB/s eta 0:01:03\r\u001B[K     |▏                               | 2.3 MB 6.9 MB/s eta 0:01:03\r\u001B[K     |▏                               | 2.4 MB 6.9 MB/s eta 0:01:03\r\u001B[K     |▏                               | 2.4 MB 6.9 MB/s eta 0:01:03\r\u001B[K     |▏                               | 2.4 MB 6.9 MB/s eta 0:01:03\r\u001B[K     |▏                               | 2.4 MB 6.9 MB/s eta 0:01:03\r\u001B[K     |▏                               | 2.4 MB 6.9 MB/s eta 0:01:03\r\u001B[K     |▏                               | 2.4 MB 6.9 MB/s eta 0:01:03\r\u001B[K     |▏                               | 2.4 MB 6.9 MB/s eta 0:01:03\r\u001B[K     |▏                               | 2.4 MB 6.9 MB/s eta 0:01:03\r\u001B[K     |▏                               | 2.4 MB 6.9 MB/s eta 0:01:03\r\u001B[K     |▏                               | 2.4 MB 6.9 MB/s eta 0:01:03\r\u001B[K     |▏                               | 2.5 MB 6.9 MB/s eta 0:01:03\r\u001B[K     |▏                               | 2.5 MB 6.9 MB/s eta 0:01:03\r\u001B[K     |▏                               | 2.5 MB 6.9 MB/s eta 0:01:03\r\u001B[K     |▏                               | 2.5 MB 6.9 MB/s eta 0:01:03\r\u001B[K     |▏                               | 2.5 MB 6.9 MB/s eta 0:01:03\r\u001B[K     |▏                               | 2.5 MB 6.9 MB/s eta 0:01:03\r\u001B[K     |▏                               | 2.5 MB 6.9 MB/s eta 0:01:03\r\u001B[K     |▏                               | 2.5 MB 6.9 MB/s eta 0:01:03\r\u001B[K     |▏                               | 2.5 MB 6.9 MB/s eta 0:01:03\r\u001B[K     |▏                               | 2.5 MB 6.9 MB/s eta 0:01:03\r\u001B[K     |▏                               | 2.6 MB 6.9 MB/s eta 0:01:03\r\u001B[K     |▏                               | 2.6 MB 6.9 MB/s eta 0:01:03\r\u001B[K     |▏                               | 2.6 MB 6.9 MB/s eta 0:01:03\r\u001B[K     |▏                               | 2.6 MB 6.9 MB/s eta 0:01:03\r\u001B[K     |▏                               | 2.6 MB 6.9 MB/s eta 0:01:03\r\u001B[K     |▏                               | 2.6 MB 6.9 MB/s eta 0:01:03\r\u001B[K     |▏                               | 2.6 MB 6.9 MB/s eta 0:01:03\r\u001B[K     |▏                               | 2.6 MB 6.9 MB/s eta 0:01:03\r\u001B[K     |▏                               | 2.6 MB 6.9 MB/s eta 0:01:03\r\u001B[K     |▏                               | 2.7 MB 6.9 MB/s eta 0:01:03\r\u001B[K     |▏                               | 2.7 MB 6.9 MB/s eta 0:01:03\r\u001B[K     |▏                               | 2.7 MB 6.9 MB/s eta 0:01:03\r\u001B[K     |▏                               | 2.7 MB 6.9 MB/s eta 0:01:03\r\u001B[K     |▏                               | 2.7 MB 6.9 MB/s eta 0:01:03\r\u001B[K     |▏                               | 2.7 MB 6.9 MB/s eta 0:01:03\r\u001B[K     |▏                               | 2.7 MB 6.9 MB/s eta 0:01:03\r\u001B[K     |▏                               | 2.7 MB 6.9 MB/s eta 0:01:03\r\u001B[K     |▏                               | 2.7 MB 6.9 MB/s eta 0:01:03\r\u001B[K     |▏                               | 2.7 MB 6.9 MB/s eta 0:01:03\r\u001B[K     |▏                               | 2.8 MB 6.9 MB/s eta 0:01:03\r\u001B[K     |▏                               | 2.8 MB 6.9 MB/s eta 0:01:03\r\u001B[K     |▏                               | 2.8 MB 6.9 MB/s eta 0:01:03\r\u001B[K     |▏                               | 2.8 MB 6.9 MB/s eta 0:01:03\r\u001B[K     |▏                               | 2.8 MB 6.9 MB/s eta 0:01:03\r\u001B[K     |▏                               | 2.8 MB 6.9 MB/s eta 0:01:03\r\u001B[K     |▏                               | 2.8 MB 6.9 MB/s eta 0:01:03\r\u001B[K     |▏                               | 2.8 MB 6.9 MB/s eta 0:01:03\r\u001B[K     |▏                               | 2.8 MB 6.9 MB/s eta 0:01:03\r\u001B[K     |▏                               | 2.8 MB 6.9 MB/s eta 0:01:03\r\u001B[K     |▏                               | 2.9 MB 6.9 MB/s eta 0:01:03\r\u001B[K     |▏                               | 2.9 MB 6.9 MB/s eta 0:01:03\r\u001B[K     |▏                               | 2.9 MB 6.9 MB/s eta 0:01:03\r\u001B[K     |▏                               | 2.9 MB 6.9 MB/s eta 0:01:03\r\u001B[K     |▏                               | 2.9 MB 6.9 MB/s eta 0:01:03\r\u001B[K     |▏                               | 2.9 MB 6.9 MB/s eta 0:01:03\r\u001B[K     |▏                               | 2.9 MB 6.9 MB/s eta 0:01:03\r\u001B[K     |▏                               | 2.9 MB 6.9 MB/s eta 0:01:03\r\u001B[K     |▏                               | 2.9 MB 6.9 MB/s eta 0:01:03\r\u001B[K     |▏                               | 2.9 MB 6.9 MB/s eta 0:01:03\r\u001B[K     |▏                               | 3.0 MB 6.9 MB/s eta 0:01:03\r\u001B[K     |▏                               | 3.0 MB 6.9 MB/s eta 0:01:03\r\u001B[K     |▏                               | 3.0 MB 6.9 MB/s eta 0:01:03\r\u001B[K     |▏                               | 3.0 MB 6.9 MB/s eta 0:01:03\r\u001B[K     |▏                               | 3.0 MB 6.9 MB/s eta 0:01:03\r\u001B[K     |▏                               | 3.0 MB 6.9 MB/s eta 0:01:03\r\u001B[K     |▎                               | 3.0 MB 6.9 MB/s eta 0:01:03\r\u001B[K     |▎                               | 3.0 MB 6.9 MB/s eta 0:01:03\r\u001B[K     |▎                               | 3.0 MB 6.9 MB/s eta 0:01:03\r\u001B[K     |▎                               | 3.1 MB 6.9 MB/s eta 0:01:03\r\u001B[K     |▎                               | 3.1 MB 6.9 MB/s eta 0:01:03\r\u001B[K     |▎                               | 3.1 MB 6.9 MB/s eta 0:01:03\r\u001B[K     |▎                               | 3.1 MB 6.9 MB/s eta 0:01:03\r\u001B[K     |▎                               | 3.1 MB 6.9 MB/s eta 0:01:03\r\u001B[K     |▎                               | 3.1 MB 6.9 MB/s eta 0:01:03\r\u001B[K     |▎                               | 3.1 MB 6.9 MB/s eta 0:01:03\r\u001B[K     |▎                               | 3.1 MB 6.9 MB/s eta 0:01:03\r\u001B[K     |▎                               | 3.1 MB 6.9 MB/s eta 0:01:03\r\u001B[K     |▎                               | 3.1 MB 6.9 MB/s eta 0:01:03\r\u001B[K     |▎                               | 3.2 MB 6.9 MB/s eta 0:01:03\r\u001B[K     |▎                               | 3.2 MB 6.9 MB/s eta 0:01:03\r\u001B[K     |▎                               | 3.2 MB 6.9 MB/s eta 0:01:03\r\u001B[K     |▎                               | 3.2 MB 6.9 MB/s eta 0:01:03\r\u001B[K     |▎                               | 3.2 MB 6.9 MB/s eta 0:01:03\r\u001B[K     |▎                               | 3.2 MB 6.9 MB/s eta 0:01:03\r\u001B[K     |▎                               | 3.2 MB 6.9 MB/s eta 0:01:03\r\u001B[K     |▎                               | 3.2 MB 6.9 MB/s eta 0:01:03\r\u001B[K     |▎                               | 3.2 MB 6.9 MB/s eta 0:01:03\r\u001B[K     |▎                               | 3.2 MB 6.9 MB/s eta 0:01:03\r\u001B[K     |▎                               | 3.3 MB 6.9 MB/s eta 0:01:03\r\u001B[K     |▎                               | 3.3 MB 6.9 MB/s eta 0:01:03\r\u001B[K     |▎                               | 3.3 MB 6.9 MB/s eta 0:01:03\r\u001B[K     |▎                               | 3.3 MB 6.9 MB/s eta 0:01:03\r\u001B[K     |▎                               | 3.3 MB 6.9 MB/s eta 0:01:03\r\u001B[K     |▎                               | 3.3 MB 6.9 MB/s eta 0:01:03\r\u001B[K     |▎                               | 3.3 MB 6.9 MB/s eta 0:01:03\r\u001B[K     |▎                               | 3.3 MB 6.9 MB/s eta 0:01:03\r\u001B[K     |▎                               | 3.3 MB 6.9 MB/s eta 0:01:03\r\u001B[K     |▎                               | 3.3 MB 6.9 MB/s eta 0:01:03\r\u001B[K     |▎                               | 3.4 MB 6.9 MB/s eta 0:01:03\r\u001B[K     |▎                               | 3.4 MB 6.9 MB/s eta 0:01:03\r\u001B[K     |▎                               | 3.4 MB 6.9 MB/s eta 0:01:03\r\u001B[K     |▎                               | 3.4 MB 6.9 MB/s eta 0:01:03\r\u001B[K     |▎                               | 3.4 MB 6.9 MB/s eta 0:01:03\r\u001B[K     |▎                               | 3.4 MB 6.9 MB/s eta 0:01:03\r\u001B[K     |▎                               | 3.4 MB 6.9 MB/s eta 0:01:03\r\u001B[K     |▎                               | 3.4 MB 6.9 MB/s eta 0:01:03\r\u001B[K     |▎                               | 3.4 MB 6.9 MB/s eta 0:01:03\r\u001B[K     |▎                               | 3.5 MB 6.9 MB/s eta 0:01:03\r\u001B[K     |▎                               | 3.5 MB 6.9 MB/s eta 0:01:03\r\u001B[K     |▎                               | 3.5 MB 6.9 MB/s eta 0:01:03\r\u001B[K     |▎                               | 3.5 MB 6.9 MB/s eta 0:01:03\r\u001B[K     |▎                               | 3.5 MB 6.9 MB/s eta 0:01:03\r\u001B[K     |▎                               | 3.5 MB 6.9 MB/s eta 0:01:03\r\u001B[K     |▎                               | 3.5 MB 6.9 MB/s eta 0:01:03\r\u001B[K     |▎                               | 3.5 MB 6.9 MB/s eta 0:01:03\r\u001B[K     |▎                               | 3.5 MB 6.9 MB/s eta 0:01:03\r\u001B[K     |▎                               | 3.5 MB 6.9 MB/s eta 0:01:03\r\u001B[K     |▎                               | 3.6 MB 6.9 MB/s eta 0:01:03\r\u001B[K     |▎                               | 3.6 MB 6.9 MB/s eta 0:01:03\r\u001B[K     |▎                               | 3.6 MB 6.9 MB/s eta 0:01:03\r\u001B[K     |▎                               | 3.6 MB 6.9 MB/s eta 0:01:03\r\u001B[K     |▎                               | 3.6 MB 6.9 MB/s eta 0:01:03\r\u001B[K     |▎ \n\n*** WARNING: max output size exceeded, skipping output. ***\n\n    |███████████████████████████████▊| 431.1 MB 152.3 MB/s eta 0:00:01\r\u001B[K     |███████████████████████████████▊| 431.1 MB 152.3 MB/s eta 0:00:01\r\u001B[K     |███████████████████████████████▉| 431.1 MB 152.3 MB/s eta 0:00:01\r\u001B[K     |███████████████████████████████▉| 431.1 MB 152.3 MB/s eta 0:00:01\r\u001B[K     |███████████████████████████████▉| 431.1 MB 152.3 MB/s eta 0:00:01\r\u001B[K     |███████████████████████████████▉| 431.2 MB 152.3 MB/s eta 0:00:01\r\u001B[K     |███████████████████████████████▉| 431.2 MB 152.3 MB/s eta 0:00:01\r\u001B[K     |███████████████████████████████▉| 431.2 MB 152.3 MB/s eta 0:00:01\r\u001B[K     |███████████████████████████████▉| 431.2 MB 152.3 MB/s eta 0:00:01\r\u001B[K     |███████████████████████████████▉| 431.2 MB 152.3 MB/s eta 0:00:01\r\u001B[K     |███████████████████████████████▉| 431.2 MB 152.3 MB/s eta 0:00:01\r\u001B[K     |███████████████████████████████▉| 431.2 MB 152.3 MB/s eta 0:00:01\r\u001B[K     |███████████████████████████████▉| 431.2 MB 152.3 MB/s eta 0:00:01\r\u001B[K     |███████████████████████████████▉| 431.2 MB 152.3 MB/s eta 0:00:01\r\u001B[K     |███████████████████████████████▉| 431.2 MB 152.3 MB/s eta 0:00:01\r\u001B[K     |███████████████████████████████▉| 431.3 MB 152.3 MB/s eta 0:00:01\r\u001B[K     |███████████████████████████████▉| 431.3 MB 152.3 MB/s eta 0:00:01\r\u001B[K     |███████████████████████████████▉| 431.3 MB 152.3 MB/s eta 0:00:01\r\u001B[K     |███████████████████████████████▉| 431.3 MB 152.3 MB/s eta 0:00:01\r\u001B[K     |███████████████████████████████▉| 431.3 MB 152.3 MB/s eta 0:00:01\r\u001B[K     |███████████████████████████████▉| 431.3 MB 152.3 MB/s eta 0:00:01\r\u001B[K     |███████████████████████████████▉| 431.3 MB 152.3 MB/s eta 0:00:01\r\u001B[K     |███████████████████████████████▉| 431.3 MB 152.3 MB/s eta 0:00:01\r\u001B[K     |███████████████████████████████▉| 431.3 MB 152.3 MB/s eta 0:00:01\r\u001B[K     |███████████████████████████████▉| 431.3 MB 152.3 MB/s eta 0:00:01\r\u001B[K     |███████████████████████████████▉| 431.4 MB 152.3 MB/s eta 0:00:01\r\u001B[K     |███████████████████████████████▉| 431.4 MB 152.3 MB/s eta 0:00:01\r\u001B[K     |███████████████████████████████▉| 431.4 MB 152.3 MB/s eta 0:00:01\r\u001B[K     |███████████████████████████████▉| 431.4 MB 152.3 MB/s eta 0:00:01\r\u001B[K     |███████████████████████████████▉| 431.4 MB 152.3 MB/s eta 0:00:01\r\u001B[K     |███████████████████████████████▉| 431.4 MB 152.3 MB/s eta 0:00:01\r\u001B[K     |███████████████████████████████▉| 431.4 MB 152.3 MB/s eta 0:00:01\r\u001B[K     |███████████████████████████████▉| 431.4 MB 152.3 MB/s eta 0:00:01\r\u001B[K     |███████████████████████████████▉| 431.4 MB 152.3 MB/s eta 0:00:01\r\u001B[K     |███████████████████████████████▉| 431.5 MB 152.3 MB/s eta 0:00:01\r\u001B[K     |███████████████████████████████▉| 431.5 MB 152.3 MB/s eta 0:00:01\r\u001B[K     |███████████████████████████████▉| 431.5 MB 152.3 MB/s eta 0:00:01\r\u001B[K     |███████████████████████████████▉| 431.5 MB 152.3 MB/s eta 0:00:01\r\u001B[K     |███████████████████████████████▉| 431.5 MB 152.3 MB/s eta 0:00:01\r\u001B[K     |███████████████████████████████▉| 431.5 MB 152.3 MB/s eta 0:00:01\r\u001B[K     |███████████████████████████████▉| 431.5 MB 152.3 MB/s eta 0:00:01\r\u001B[K     |███████████████████████████████▉| 431.5 MB 152.3 MB/s eta 0:00:01\r\u001B[K     |███████████████████████████████▉| 431.5 MB 152.3 MB/s eta 0:00:01\r\u001B[K     |███████████████████████████████▉| 431.5 MB 152.3 MB/s eta 0:00:01\r\u001B[K     |███████████████████████████████▉| 431.6 MB 152.3 MB/s eta 0:00:01\r\u001B[K     |███████████████████████████████▉| 431.6 MB 152.3 MB/s eta 0:00:01\r\u001B[K     |███████████████████████████████▉| 431.6 MB 152.3 MB/s eta 0:00:01\r\u001B[K     |███████████████████████████████▉| 431.6 MB 152.3 MB/s eta 0:00:01\r\u001B[K     |███████████████████████████████▉| 431.6 MB 152.3 MB/s eta 0:00:01\r\u001B[K     |███████████████████████████████▉| 431.6 MB 152.3 MB/s eta 0:00:01\r\u001B[K     |███████████████████████████████▉| 431.6 MB 152.3 MB/s eta 0:00:01\r\u001B[K     |███████████████████████████████▉| 431.6 MB 152.3 MB/s eta 0:00:01\r\u001B[K     |███████████████████████████████▉| 431.6 MB 152.3 MB/s eta 0:00:01\r\u001B[K     |███████████████████████████████▉| 431.6 MB 152.3 MB/s eta 0:00:01\r\u001B[K     |███████████████████████████████▉| 431.7 MB 152.3 MB/s eta 0:00:01\r\u001B[K     |███████████████████████████████▉| 431.7 MB 152.3 MB/s eta 0:00:01\r\u001B[K     |███████████████████████████████▉| 431.7 MB 152.3 MB/s eta 0:00:01\r\u001B[K     |███████████████████████████████▉| 431.7 MB 152.3 MB/s eta 0:00:01\r\u001B[K     |███████████████████████████████▉| 431.7 MB 152.3 MB/s eta 0:00:01\r\u001B[K     |███████████████████████████████▉| 431.7 MB 152.3 MB/s eta 0:00:01\r\u001B[K     |███████████████████████████████▉| 431.7 MB 152.3 MB/s eta 0:00:01\r\u001B[K     |███████████████████████████████▉| 431.7 MB 152.3 MB/s eta 0:00:01\r\u001B[K     |███████████████████████████████▉| 431.7 MB 152.3 MB/s eta 0:00:01\r\u001B[K     |███████████████████████████████▉| 431.7 MB 152.3 MB/s eta 0:00:01\r\u001B[K     |███████████████████████████████▉| 431.8 MB 152.3 MB/s eta 0:00:01\r\u001B[K     |███████████████████████████████▉| 431.8 MB 152.3 MB/s eta 0:00:01\r\u001B[K     |███████████████████████████████▉| 431.8 MB 152.3 MB/s eta 0:00:01\r\u001B[K     |███████████████████████████████▉| 431.8 MB 152.3 MB/s eta 0:00:01\r\u001B[K     |███████████████████████████████▉| 431.8 MB 152.3 MB/s eta 0:00:01\r\u001B[K     |███████████████████████████████▉| 431.8 MB 152.3 MB/s eta 0:00:01\r\u001B[K     |███████████████████████████████▉| 431.8 MB 152.3 MB/s eta 0:00:01\r\u001B[K     |███████████████████████████████▉| 431.8 MB 152.3 MB/s eta 0:00:01\r\u001B[K     |███████████████████████████████▉| 431.8 MB 152.3 MB/s eta 0:00:01\r\u001B[K     |███████████████████████████████▉| 431.9 MB 152.3 MB/s eta 0:00:01\r\u001B[K     |███████████████████████████████▉| 431.9 MB 152.3 MB/s eta 0:00:01\r\u001B[K     |███████████████████████████████▉| 431.9 MB 152.3 MB/s eta 0:00:01\r\u001B[K     |███████████████████████████████▉| 431.9 MB 152.3 MB/s eta 0:00:01\r\u001B[K     |███████████████████████████████▉| 431.9 MB 152.3 MB/s eta 0:00:01\r\u001B[K     |███████████████████████████████▉| 431.9 MB 152.3 MB/s eta 0:00:01\r\u001B[K     |███████████████████████████████▉| 431.9 MB 152.3 MB/s eta 0:00:01\r\u001B[K     |███████████████████████████████▉| 431.9 MB 152.3 MB/s eta 0:00:01\r\u001B[K     |███████████████████████████████▉| 431.9 MB 152.3 MB/s eta 0:00:01\r\u001B[K     |███████████████████████████████▉| 431.9 MB 152.3 MB/s eta 0:00:01\r\u001B[K     |███████████████████████████████▉| 432.0 MB 152.3 MB/s eta 0:00:01\r\u001B[K     |███████████████████████████████▉| 432.0 MB 152.3 MB/s eta 0:00:01\r\u001B[K     |███████████████████████████████▉| 432.0 MB 152.3 MB/s eta 0:00:01\r\u001B[K     |███████████████████████████████▉| 432.0 MB 152.3 MB/s eta 0:00:01\r\u001B[K     |███████████████████████████████▉| 432.0 MB 152.3 MB/s eta 0:00:01\r\u001B[K     |███████████████████████████████▉| 432.0 MB 152.3 MB/s eta 0:00:01\r\u001B[K     |███████████████████████████████▉| 432.0 MB 152.3 MB/s eta 0:00:01\r\u001B[K     |███████████████████████████████▉| 432.0 MB 152.3 MB/s eta 0:00:01\r\u001B[K     |███████████████████████████████▉| 432.0 MB 152.3 MB/s eta 0:00:01\r\u001B[K     |███████████████████████████████▉| 432.0 MB 152.3 MB/s eta 0:00:01\r\u001B[K     |███████████████████████████████▉| 432.1 MB 152.3 MB/s eta 0:00:01\r\u001B[K     |███████████████████████████████▉| 432.1 MB 152.3 MB/s eta 0:00:01\r\u001B[K     |███████████████████████████████▉| 432.1 MB 152.3 MB/s eta 0:00:01\r\u001B[K     |███████████████████████████████▉| 432.1 MB 152.3 MB/s eta 0:00:01\r\u001B[K     |███████████████████████████████▉| 432.1 MB 152.3 MB/s eta 0:00:01\r\u001B[K     |███████████████████████████████▉| 432.1 MB 152.3 MB/s eta 0:00:01\r\u001B[K     |███████████████████████████████▉| 432.1 MB 152.3 MB/s eta 0:00:01\r\u001B[K     |███████████████████████████████▉| 432.1 MB 152.3 MB/s eta 0:00:01\r\u001B[K     |███████████████████████████████▉| 432.1 MB 152.3 MB/s eta 0:00:01\r\u001B[K     |███████████████████████████████▉| 432.1 MB 152.3 MB/s eta 0:00:01\r\u001B[K     |███████████████████████████████▉| 432.2 MB 152.3 MB/s eta 0:00:01\r\u001B[K     |███████████████████████████████▉| 432.2 MB 152.3 MB/s eta 0:00:01\r\u001B[K     |███████████████████████████████▉| 432.2 MB 152.3 MB/s eta 0:00:01\r\u001B[K     |███████████████████████████████▉| 432.2 MB 152.3 MB/s eta 0:00:01\r\u001B[K     |███████████████████████████████▉| 432.2 MB 152.3 MB/s eta 0:00:01\r\u001B[K     |███████████████████████████████▉| 432.2 MB 152.3 MB/s eta 0:00:01\r\u001B[K     |███████████████████████████████▉| 432.2 MB 152.3 MB/s eta 0:00:01\r\u001B[K     |███████████████████████████████▉| 432.2 MB 152.3 MB/s eta 0:00:01\r\u001B[K     |███████████████████████████████▉| 432.2 MB 152.3 MB/s eta 0:00:01\r\u001B[K     |███████████████████████████████▉| 432.3 MB 152.3 MB/s eta 0:00:01\r\u001B[K     |███████████████████████████████▉| 432.3 MB 152.3 MB/s eta 0:00:01\r\u001B[K     |███████████████████████████████▉| 432.3 MB 152.3 MB/s eta 0:00:01\r\u001B[K     |███████████████████████████████▉| 432.3 MB 152.3 MB/s eta 0:00:01\r\u001B[K     |███████████████████████████████▉| 432.3 MB 152.3 MB/s eta 0:00:01\r\u001B[K     |███████████████████████████████▉| 432.3 MB 152.3 MB/s eta 0:00:01\r\u001B[K     |███████████████████████████████▉| 432.3 MB 152.3 MB/s eta 0:00:01\r\u001B[K     |███████████████████████████████▉| 432.3 MB 152.3 MB/s eta 0:00:01\r\u001B[K     |███████████████████████████████▉| 432.3 MB 152.3 MB/s eta 0:00:01\r\u001B[K     |███████████████████████████████▉| 432.3 MB 152.3 MB/s eta 0:00:01\r\u001B[K     |███████████████████████████████▉| 432.4 MB 152.3 MB/s eta 0:00:01\r\u001B[K     |███████████████████████████████▉| 432.4 MB 152.3 MB/s eta 0:00:01\r\u001B[K     |███████████████████████████████▉| 432.4 MB 152.3 MB/s eta 0:00:01\r\u001B[K     |███████████████████████████████▉| 432.4 MB 152.3 MB/s eta 0:00:01\r\u001B[K     |███████████████████████████████▉| 432.4 MB 152.3 MB/s eta 0:00:01\r\u001B[K     |███████████████████████████████▉| 432.4 MB 152.3 MB/s eta 0:00:01\r\u001B[K     |███████████████████████████████▉| 432.4 MB 152.3 MB/s eta 0:00:01\r\u001B[K     |███████████████████████████████▉| 432.4 MB 152.3 MB/s eta 0:00:01\r\u001B[K     |███████████████████████████████▉| 432.4 MB 152.3 MB/s eta 0:00:01\r\u001B[K     |███████████████████████████████▉| 432.4 MB 152.3 MB/s eta 0:00:01\r\u001B[K     |███████████████████████████████▉| 432.5 MB 152.3 MB/s eta 0:00:01\r\u001B[K     |███████████████████████████████▉| 432.5 MB 152.3 MB/s eta 0:00:01\r\u001B[K     |███████████████████████████████▉| 432.5 MB 152.3 MB/s eta 0:00:01\r\u001B[K     |███████████████████████████████▉| 432.5 MB 152.3 MB/s eta 0:00:01\r\u001B[K     |███████████████████████████████▉| 432.5 MB 152.3 MB/s eta 0:00:01\r\u001B[K     |███████████████████████████████▉| 432.5 MB 152.3 MB/s eta 0:00:01\r\u001B[K     |███████████████████████████████▉| 432.5 MB 152.3 MB/s eta 0:00:01\r\u001B[K     |███████████████████████████████▉| 432.5 MB 152.3 MB/s eta 0:00:01\r\u001B[K     |███████████████████████████████▉| 432.5 MB 152.3 MB/s eta 0:00:01\r\u001B[K     |███████████████████████████████▉| 432.5 MB 152.3 MB/s eta 0:00:01\r\u001B[K     |███████████████████████████████▉| 432.6 MB 152.3 MB/s eta 0:00:01\r\u001B[K     |███████████████████████████████▉| 432.6 MB 152.3 MB/s eta 0:00:01\r\u001B[K     |███████████████████████████████▉| 432.6 MB 152.3 MB/s eta 0:00:01\r\u001B[K     |███████████████████████████████▉| 432.6 MB 152.3 MB/s eta 0:00:01\r\u001B[K     |███████████████████████████████▉| 432.6 MB 152.3 MB/s eta 0:00:01\r\u001B[K     |███████████████████████████████▉| 432.6 MB 152.3 MB/s eta 0:00:01\r\u001B[K     |███████████████████████████████▉| 432.6 MB 152.3 MB/s eta 0:00:01\r\u001B[K     |████████████████████████████████| 432.6 MB 152.3 MB/s eta 0:00:01\r\u001B[K     |████████████████████████████████| 432.6 MB 152.3 MB/s eta 0:00:01\r\u001B[K     |████████████████████████████████| 432.7 MB 152.3 MB/s eta 0:00:01\r\u001B[K     |████████████████████████████████| 432.7 MB 152.3 MB/s eta 0:00:01\r\u001B[K     |████████████████████████████████| 432.7 MB 152.3 MB/s eta 0:00:01\r\u001B[K     |████████████████████████████████| 432.7 MB 152.3 MB/s eta 0:00:01\r\u001B[K     |████████████████████████████████| 432.7 MB 152.3 MB/s eta 0:00:01\r\u001B[K     |████████████████████████████████| 432.7 MB 152.3 MB/s eta 0:00:01\r\u001B[K     |████████████████████████████████| 432.7 MB 152.3 MB/s eta 0:00:01\r\u001B[K     |████████████████████████████████| 432.7 MB 152.3 MB/s eta 0:00:01\r\u001B[K     |████████████████████████████████| 432.7 MB 152.3 MB/s eta 0:00:01\r\u001B[K     |████████████████████████████████| 432.7 MB 152.3 MB/s eta 0:00:01\r\u001B[K     |████████████████████████████████| 432.8 MB 152.3 MB/s eta 0:00:01\r\u001B[K     |████████████████████████████████| 432.8 MB 152.3 MB/s eta 0:00:01\r\u001B[K     |████████████████████████████████| 432.8 MB 152.3 MB/s eta 0:00:01\r\u001B[K     |████████████████████████████████| 432.8 MB 152.3 MB/s eta 0:00:01\r\u001B[K     |████████████████████████████████| 432.8 MB 152.3 MB/s eta 0:00:01\r\u001B[K     |████████████████████████████████| 432.8 MB 152.3 MB/s eta 0:00:01\r\u001B[K     |████████████████████████████████| 432.8 MB 152.3 MB/s eta 0:00:01\r\u001B[K     |████████████████████████████████| 432.8 MB 152.3 MB/s eta 0:00:01\r\u001B[K     |████████████████████████████████| 432.8 MB 152.3 MB/s eta 0:00:01\r\u001B[K     |████████████████████████████████| 432.8 MB 152.3 MB/s eta 0:00:01\r\u001B[K     |████████████████████████████████| 432.9 MB 152.3 MB/s eta 0:00:01\r\u001B[K     |████████████████████████████████| 432.9 MB 152.3 MB/s eta 0:00:01\r\u001B[K     |████████████████████████████████| 432.9 MB 152.3 MB/s eta 0:00:01\r\u001B[K     |████████████████████████████████| 432.9 MB 152.3 MB/s eta 0:00:01\r\u001B[K     |████████████████████████████████| 432.9 MB 152.3 MB/s eta 0:00:01\r\u001B[K     |████████████████████████████████| 432.9 MB 152.3 MB/s eta 0:00:01\r\u001B[K     |████████████████████████████████| 432.9 MB 152.3 MB/s eta 0:00:01\r\u001B[K     |████████████████████████████████| 432.9 MB 152.3 MB/s eta 0:00:01\r\u001B[K     |████████████████████████████████| 432.9 MB 152.3 MB/s eta 0:00:01\r\u001B[K     |████████████████████████████████| 432.9 MB 152.3 MB/s eta 0:00:01\r\u001B[K     |████████████████████████████████| 433.0 MB 152.3 MB/s eta 0:00:01\r\u001B[K     |████████████████████████████████| 433.0 MB 152.3 MB/s eta 0:00:01\r\u001B[K     |████████████████████████████████| 433.0 MB 152.3 MB/s eta 0:00:01\r\u001B[K     |████████████████████████████████| 433.0 MB 152.3 MB/s eta 0:00:01\r\u001B[K     |████████████████████████████████| 433.0 MB 152.3 MB/s eta 0:00:01\r\u001B[K     |████████████████████████████████| 433.0 MB 152.3 MB/s eta 0:00:01\r\u001B[K     |████████████████████████████████| 433.0 MB 152.3 MB/s eta 0:00:01\r\u001B[K     |████████████████████████████████| 433.0 MB 152.3 MB/s eta 0:00:01\r\u001B[K     |████████████████████████████████| 433.0 MB 152.3 MB/s eta 0:00:01\r\u001B[K     |████████████████████████████████| 433.0 MB 152.3 MB/s eta 0:00:01\r\u001B[K     |████████████████████████████████| 433.1 MB 152.3 MB/s eta 0:00:01\r\u001B[K     |████████████████████████████████| 433.1 MB 152.3 MB/s eta 0:00:01\r\u001B[K     |████████████████████████████████| 433.1 MB 152.3 MB/s eta 0:00:01\r\u001B[K     |████████████████████████████████| 433.1 MB 152.3 MB/s eta 0:00:01\r\u001B[K     |████████████████████████████████| 433.1 MB 152.3 MB/s eta 0:00:01\r\u001B[K     |████████████████████████████████| 433.1 MB 152.3 MB/s eta 0:00:01\r\u001B[K     |████████████████████████████████| 433.1 MB 152.3 MB/s eta 0:00:01\r\u001B[K     |████████████████████████████████| 433.1 MB 152.3 MB/s eta 0:00:01\r\u001B[K     |████████████████████████████████| 433.1 MB 152.3 MB/s eta 0:00:01\r\u001B[K     |████████████████████████████████| 433.2 MB 152.3 MB/s eta 0:00:01\r\u001B[K     |████████████████████████████████| 433.2 MB 152.3 MB/s eta 0:00:01\r\u001B[K     |████████████████████████████████| 433.2 MB 152.3 MB/s eta 0:00:01\r\u001B[K     |████████████████████████████████| 433.2 MB 152.3 MB/s eta 0:00:01\r\u001B[K     |████████████████████████████████| 433.2 MB 152.3 MB/s eta 0:00:01\r\u001B[K     |████████████████████████████████| 433.2 MB 152.3 MB/s eta 0:00:01\r\u001B[K     |████████████████████████████████| 433.2 MB 152.3 MB/s eta 0:00:01\r\u001B[K     |████████████████████████████████| 433.2 MB 152.3 MB/s eta 0:00:01\r\u001B[K     |████████████████████████████████| 433.2 MB 152.3 MB/s eta 0:00:01\r\u001B[K     |████████████████████████████████| 433.2 MB 152.3 MB/s eta 0:00:01\r\u001B[K     |████████████████████████████████| 433.3 MB 152.3 MB/s eta 0:00:01\r\u001B[K     |████████████████████████████████| 433.3 MB 152.3 MB/s eta 0:00:01\r\u001B[K     |████████████████████████████████| 433.3 MB 152.3 MB/s eta 0:00:01\r\u001B[K     |████████████████████████████████| 433.3 MB 152.3 MB/s eta 0:00:01\r\u001B[K     |████████████████████████████████| 433.3 MB 152.3 MB/s eta 0:00:01\r\u001B[K     |████████████████████████████████| 433.3 MB 152.3 MB/s eta 0:00:01\r\u001B[K     |████████████████████████████████| 433.3 MB 152.3 MB/s eta 0:00:01\r\u001B[K     |████████████████████████████████| 433.3 MB 152.3 MB/s eta 0:00:01\r\u001B[K     |████████████████████████████████| 433.3 MB 152.3 MB/s eta 0:00:01\r\u001B[K     |████████████████████████████████| 433.3 MB 152.3 MB/s eta 0:00:01\r\u001B[K     |████████████████████████████████| 433.4 MB 152.3 MB/s eta 0:00:01\r\u001B[K     |████████████████████████████████| 433.4 MB 152.3 MB/s eta 0:00:01\r\u001B[K     |████████████████████████████████| 433.4 MB 152.3 MB/s eta 0:00:01\r\u001B[K     |████████████████████████████████| 433.4 MB 152.3 MB/s eta 0:00:01\r\u001B[K     |████████████████████████████████| 433.4 MB 152.3 MB/s eta 0:00:01\r\u001B[K     |████████████████████████████████| 433.4 MB 152.3 MB/s eta 0:00:01\r\u001B[K     |████████████████████████████████| 433.4 MB 152.3 MB/s eta 0:00:01\r\u001B[K     |████████████████████████████████| 433.4 MB 152.3 MB/s eta 0:00:01\r\u001B[K     |████████████████████████████████| 433.4 MB 152.3 MB/s eta 0:00:01\r\u001B[K     |████████████████████████████████| 433.4 MB 152.3 MB/s eta 0:00:01\r\u001B[K     |████████████████████████████████| 433.5 MB 152.3 MB/s eta 0:00:01\r\u001B[K     |████████████████████████████████| 433.5 MB 152.3 MB/s eta 0:00:01\r\u001B[K     |████████████████████████████████| 433.5 MB 152.3 MB/s eta 0:00:01\r\u001B[K     |████████████████████████████████| 433.5 MB 152.3 MB/s eta 0:00:01\r\u001B[K     |████████████████████████████████| 433.5 MB 152.3 MB/s eta 0:00:01\r\u001B[K     |████████████████████████████████| 433.5 MB 152.3 MB/s eta 0:00:01\r\u001B[K     |████████████████████████████████| 433.5 MB 152.3 MB/s eta 0:00:01\r\u001B[K     |████████████████████████████████| 433.5 MB 152.3 MB/s eta 0:00:01\r\u001B[K     |████████████████████████████████| 433.5 MB 152.3 MB/s eta 0:00:01\r\u001B[K     |████████████████████████████████| 433.6 MB 152.3 MB/s eta 0:00:01\r\u001B[K     |████████████████████████████████| 433.6 MB 152.3 MB/s eta 0:00:01\r\u001B[K     |████████████████████████████████| 433.6 MB 152.3 MB/s eta 0:00:01\r\u001B[K     |████████████████████████████████| 433.6 MB 152.3 MB/s eta 0:00:01\r\u001B[K     |████████████████████████████████| 433.6 MB 152.3 MB/s eta 0:00:01\r\u001B[K     |████████████████████████████████| 433.6 MB 152.3 MB/s eta 0:00:01\r\u001B[K     |████████████████████████████████| 433.6 MB 152.3 MB/s eta 0:00:01\r\u001B[K     |████████████████████████████████| 433.6 MB 152.3 MB/s eta 0:00:01\r\u001B[K     |████████████████████████████████| 433.6 MB 152.3 MB/s eta 0:00:01\r\u001B[K     |████████████████████████████████| 433.6 MB 152.3 MB/s eta 0:00:01\r\u001B[K     |████████████████████████████████| 433.7 MB 152.3 MB/s eta 0:00:01\r\u001B[K     |████████████████████████████████| 433.7 MB 152.3 MB/s eta 0:00:01\r\u001B[K     |████████████████████████████████| 433.7 MB 152.3 MB/s eta 0:00:01\r\u001B[K     |████████████████████████████████| 433.7 MB 152.3 MB/s eta 0:00:01\r\u001B[K     |████████████████████████████████| 433.7 MB 152.3 MB/s eta 0:00:01\r\u001B[K     |████████████████████████████████| 433.7 MB 152.3 MB/s eta 0:00:01\r\u001B[K     |████████████████████████████████| 433.7 MB 152.3 MB/s eta 0:00:01\r\u001B[K     |████████████████████████████████| 433.7 MB 152.3 MB/s eta 0:00:01\r\u001B[K     |████████████████████████████████| 433.7 MB 152.3 MB/s eta 0:00:01\r\u001B[K     |████████████████████████████████| 433.7 MB 152.3 MB/s eta 0:00:01\r\u001B[K     |████████████████████████████████| 433.8 MB 152.3 MB/s eta 0:00:01\r\u001B[K     |████████████████████████████████| 433.8 MB 152.3 MB/s eta 0:00:01\r\u001B[K     |████████████████████████████████| 433.8 MB 152.3 MB/s eta 0:00:01\r\u001B[K     |████████████████████████████████| 433.8 MB 152.3 MB/s eta 0:00:01\r\u001B[K     |████████████████████████████████| 433.8 MB 152.3 MB/s eta 0:00:01\r\u001B[K     |████████████████████████████████| 433.8 MB 152.3 MB/s eta 0:00:01\r\u001B[K     |████████████████████████████████| 433.8 MB 152.3 MB/s eta 0:00:01\r\u001B[K     |████████████████████████████████| 433.8 MB 152.3 MB/s eta 0:00:01\r\u001B[K     |████████████████████████████████| 433.8 MB 152.3 MB/s eta 0:00:01\r\u001B[K     |████████████████████████████████| 433.8 MB 152.3 MB/s eta 0:00:01\r\u001B[K     |████████████████████████████████| 433.9 MB 152.3 MB/s eta 0:00:01\r\u001B[K     |████████████████████████████████| 433.9 MB 152.3 MB/s eta 0:00:01\r\u001B[K     |████████████████████████████████| 433.9 MB 152.3 MB/s eta 0:00:01\r\u001B[K     |████████████████████████████████| 433.9 MB 152.3 MB/s eta 0:00:01\r\u001B[K     |████████████████████████████████| 433.9 MB 152.3 MB/s eta 0:00:01\r\u001B[K     |████████████████████████████████| 433.9 MB 152.3 MB/s eta 0:00:01\r\u001B[K     |████████████████████████████████| 433.9 MB 152.3 MB/s eta 0:00:01\r\u001B[K     |████████████████████████████████| 433.9 MB 152.3 MB/s eta 0:00:01\r\u001B[K     |████████████████████████████████| 433.9 MB 152.3 MB/s eta 0:00:01\r\u001B[K     |████████████████████████████████| 434.0 MB 152.3 MB/s eta 0:00:01\r\u001B[K     |████████████████████████████████| 434.0 MB 152.3 MB/s eta 0:00:01\r\u001B[K     |████████████████████████████████| 434.0 MB 152.3 MB/s eta 0:00:01\r\u001B[K     |████████████████████████████████| 434.0 MB 152.3 MB/s eta 0:00:01\r\u001B[K     |████████████████████████████████| 434.0 MB 152.3 MB/s eta 0:00:01\r\u001B[K     |████████████████████████████████| 434.0 MB 152.3 MB/s eta 0:00:01\r\u001B[K     |████████████████████████████████| 434.0 MB 152.3 MB/s eta 0:00:01\r\u001B[K     |████████████████████████████████| 434.0 MB 152.3 MB/s eta 0:00:01\r\u001B[K     |████████████████████████████████| 434.0 MB 152.3 MB/s eta 0:00:01\r\u001B[K     |████████████████████████████████| 434.0 MB 152.3 MB/s eta 0:00:01\r\u001B[K     |████████████████████████████████| 434.1 MB 152.3 MB/s eta 0:00:01\r\u001B[K     |████████████████████████████████| 434.1 MB 152.3 MB/s eta 0:00:01\r\u001B[K     |████████████████████████████████| 434.1 MB 152.3 MB/s eta 0:00:01\r\u001B[K     |████████████████████████████████| 434.1 MB 152.3 MB/s eta 0:00:01\r\u001B[K     |████████████████████████████████| 434.1 MB 152.3 MB/s eta 0:00:01\r\u001B[K     |████████████████████████████████| 434.1 MB 152.3 MB/s eta 0:00:01\r\u001B[K     |████████████████████████████████| 434.1 MB 152.3 MB/s eta 0:00:01\r\u001B[K     |████████████████████████████████| 434.1 MB 152.3 MB/s eta 0:00:01\r\u001B[K     |████████████████████████████████| 434.1 MB 4.6 kB/s \r\n\u001B[?25hCollecting py4j==0.10.9.9\r\n  Downloading py4j-0.10.9.9-py2.py3-none-any.whl (203 kB)\r\n\u001B[?25l\r\u001B[K     |█▋                              | 10 kB 56.5 MB/s eta 0:00:01\r\u001B[K     |███▎                            | 20 kB 66.5 MB/s eta 0:00:01\r\u001B[K     |████▉                           | 30 kB 81.2 MB/s eta 0:00:01\r\u001B[K     |██████▌                         | 40 kB 87.9 MB/s eta 0:00:01\r\u001B[K     |████████                        | 51 kB 42.9 MB/s eta 0:00:01\r\u001B[K     |█████████▊                      | 61 kB 47.3 MB/s eta 0:00:01\r\u001B[K     |███████████▎                    | 71 kB 50.1 MB/s eta 0:00:01\r\u001B[K     |█████████████                   | 81 kB 53.4 MB/s eta 0:00:01\r\u001B[K     |██████████████▌                 | 92 kB 57.0 MB/s eta 0:00:01\r\u001B[K     |████████████████▏               | 102 kB 47.5 MB/s eta 0:00:01\r\u001B[K     |█████████████████▊              | 112 kB 47.5 MB/s eta 0:00:01\r\u001B[K     |███████████████████▍            | 122 kB 47.5 MB/s eta 0:00:01\r\u001B[K     |█████████████████████           | 133 kB 47.5 MB/s eta 0:00:01\r\u001B[K     |██████████████████████▋         | 143 kB 47.5 MB/s eta 0:00:01\r\u001B[K     |████████████████████████▏       | 153 kB 47.5 MB/s eta 0:00:01\r\u001B[K     |█████████████████████████▉      | 163 kB 47.5 MB/s eta 0:00:01\r\u001B[K     |███████████████████████████▍    | 174 kB 47.5 MB/s eta 0:00:01\r\u001B[K     |█████████████████████████████   | 184 kB 47.5 MB/s eta 0:00:01\r\u001B[K     |██████████████████████████████▊ | 194 kB 47.5 MB/s eta 0:00:01\r\u001B[K     |████████████████████████████████| 203 kB 47.5 MB/s \r\n\u001B[?25hBuilding wheels for collected packages: pyspark\r\n  Building wheel for pyspark (setup.py) ... \u001B[?25l-\b \b\\\b \b|\b \b/\b \b-\b \b\\\b \b|\b \b/\b \b-\b \b\\\b \b|\b \b/\b \b-\b \b\\\b \b|\b \b/\b \b-\b \b\\\b \b|\b \b/\b \b-\b \b\\\b \b|\b \b/\b \b-\b \b\\\b \b|\b \b/\b \b-\b \b\\\b \b|\b \b/\b \b-\b \b\\\b \b|\b \b/\b \b-\b \b\\\b \b|\b \b/\b \b-\b \b\\\b \b|\b \b/\b \b-\b \b\\\b \b|\b \b/\b \b-\b \b\\\b \b|\b \b/\b \b-\b \b\\\b \b|\b \b/\b \b-\b \b\\\b \b|\b \b/\b \b-\b \b\\\b \b|\b \b/\b \b-\b \b\\\b \b|\b \b/\b \b-\b \b\\\b \b|\b \b/\b \b-\b \b\\\b \b|\b \b/\b \b-\b \b\\\b \b|\b \b/\b \b-\b \b\\\b \b|\b \b/\b \b-\b \b\\\b \b|\b \b/\b \b-\b \b\\\b \b|\b \b/\b \b-\b \b\\\b \b|\b \b/\b \b-\b \b\\\b \b|\b \b/\b \b-\b \b\\\b \b|\b \b/\b \b-\b \b\\\b \b|\b \b/\b \b-\b \b\\\b \b|\b \b/\b \bdone\r\n\u001B[?25h  Created wheel for pyspark: filename=pyspark-4.0.0-py2.py3-none-any.whl size=434741259 sha256=d906a8ab62fbc6441ee118cd200ea258257a3ac664e5b3766adc254182b09b0a\r\n  Stored in directory: /root/.cache/pip/wheels/11/95/4b/e3cfd6f160b2988f57207fcde6e5a4c6e0104d7da5a107eb8e\r\nSuccessfully built pyspark\r\nInstalling collected packages: py4j, pyspark\r\nSuccessfully installed py4j-0.10.9.9 pyspark-4.0.0\r\n\u001B[33mWARNING: You are using pip version 21.2.4; however, version 25.1.1 is available.\r\nYou should consider upgrading via the '/local_disk0/.ephemeral_nfs/envs/pythonEnv-d36413d3-3854-4ffd-8a36-e965cbd976ec/bin/python -m pip install --upgrade pip' command.\u001B[0m\r\n"
     ]
    }
   ],
   "source": [
    "!pip install pyspark"
   ]
  },
  {
   "cell_type": "code",
   "execution_count": 0,
   "metadata": {
    "application/vnd.databricks.v1+cell": {
     "cellMetadata": {
      "byteLimit": 2048000,
      "rowLimit": 10000
     },
     "inputWidgets": {},
     "nuid": "e3ed1aaf-b424-4747-881e-6e352d332376",
     "showTitle": false,
     "tableResultSettingsMap": {},
     "title": ""
    }
   },
   "outputs": [
    {
     "output_type": "stream",
     "name": "stdout",
     "output_type": "stream",
     "text": [
      "Collecting findspark\r\n  Downloading findspark-2.0.1-py2.py3-none-any.whl (4.4 kB)\r\nInstalling collected packages: findspark\r\nSuccessfully installed findspark-2.0.1\r\n\u001B[33mWARNING: You are using pip version 21.2.4; however, version 25.1.1 is available.\r\nYou should consider upgrading via the '/local_disk0/.ephemeral_nfs/envs/pythonEnv-d36413d3-3854-4ffd-8a36-e965cbd976ec/bin/python -m pip install --upgrade pip' command.\u001B[0m\r\n"
     ]
    }
   ],
   "source": [
    "!pip install findspark"
   ]
  },
  {
   "cell_type": "code",
   "execution_count": 0,
   "metadata": {
    "application/vnd.databricks.v1+cell": {
     "cellMetadata": {
      "byteLimit": 2048000,
      "rowLimit": 10000
     },
     "inputWidgets": {},
     "nuid": "aa090ba3-ff19-43b4-838b-e61dce409d62",
     "showTitle": false,
     "tableResultSettingsMap": {},
     "title": ""
    }
   },
   "outputs": [],
   "source": [
    "import findspark\n",
    "findspark.init()\n",
    "from pyspark.sql import SparkSession\n",
    "spark = SparkSession.builder.master(\"local[*]\").getOrCreate()"
   ]
  },
  {
   "cell_type": "code",
   "execution_count": 0,
   "metadata": {
    "application/vnd.databricks.v1+cell": {
     "cellMetadata": {
      "byteLimit": 2048000,
      "rowLimit": 10000
     },
     "inputWidgets": {},
     "nuid": "af1eb4e1-1508-48e0-92f8-ca72d38b68b1",
     "showTitle": false,
     "tableResultSettingsMap": {},
     "title": ""
    }
   },
   "outputs": [
    {
     "output_type": "display_data",
     "data": {
      "text/html": [
       "<div>\n",
       "<style scoped>\n",
       "    .dataframe tbody tr th:only-of-type {\n",
       "        vertical-align: middle;\n",
       "    }\n",
       "\n",
       "    .dataframe tbody tr th {\n",
       "        vertical-align: top;\n",
       "    }\n",
       "\n",
       "    .dataframe thead th {\n",
       "        text-align: right;\n",
       "    }\n",
       "</style>\n",
       "<table border=\"1\" class=\"dataframe\">\n",
       "  <thead>\n",
       "    <tr style=\"text-align: right;\">\n",
       "      <th></th>\n",
       "      <th>codigo_pesquisa</th>\n",
       "      <th>idade</th>\n",
       "      <th>genero</th>\n",
       "      <th>altura</th>\n",
       "      <th>peso</th>\n",
       "      <th>imc</th>\n",
       "      <th>imc_estimado</th>\n",
       "      <th>imc_normalizado</th>\n",
       "      <th>imc_corrigido</th>\n",
       "      <th>circunferencia_cintura</th>\n",
       "      <th>...</th>\n",
       "      <th>exposicao_sol</th>\n",
       "      <th>refeicoes_dia</th>\n",
       "      <th>consumo_cafeina</th>\n",
       "      <th>historico_familiar</th>\n",
       "      <th>possui_pet</th>\n",
       "      <th>nivel_eletrolitos</th>\n",
       "      <th>marcador_genetico</th>\n",
       "      <th>pontuacao_risco_ambiental</th>\n",
       "      <th>dosagem_suplementos_diaria</th>\n",
       "      <th>alvo</th>\n",
       "    </tr>\n",
       "  </thead>\n",
       "  <tbody>\n",
       "    <tr>\n",
       "      <th>0</th>\n",
       "      <td>1</td>\n",
       "      <td>56</td>\n",
       "      <td>Masculino</td>\n",
       "      <td>173.416872</td>\n",
       "      <td>56.886640</td>\n",
       "      <td>18.915925</td>\n",
       "      <td>18.915925</td>\n",
       "      <td>56.747776</td>\n",
       "      <td>18.989117</td>\n",
       "      <td>72.165130</td>\n",
       "      <td>...</td>\n",
       "      <td>Alto</td>\n",
       "      <td>5</td>\n",
       "      <td>Moderado</td>\n",
       "      <td>Não</td>\n",
       "      <td>Sim</td>\n",
       "      <td>0</td>\n",
       "      <td>1.0</td>\n",
       "      <td>5.5</td>\n",
       "      <td>-2.275502</td>\n",
       "      <td>Saudável</td>\n",
       "    </tr>\n",
       "    <tr>\n",
       "      <th>1</th>\n",
       "      <td>2</td>\n",
       "      <td>69</td>\n",
       "      <td>Feminino</td>\n",
       "      <td>163.207380</td>\n",
       "      <td>97.799859</td>\n",
       "      <td>36.716278</td>\n",
       "      <td>36.716278</td>\n",
       "      <td>110.148833</td>\n",
       "      <td>36.511417</td>\n",
       "      <td>85.598889</td>\n",
       "      <td>...</td>\n",
       "      <td>Alto</td>\n",
       "      <td>5</td>\n",
       "      <td>Alto</td>\n",
       "      <td>Sim</td>\n",
       "      <td>Não</td>\n",
       "      <td>0</td>\n",
       "      <td>1.0</td>\n",
       "      <td>5.5</td>\n",
       "      <td>6.239340</td>\n",
       "      <td>Saudável</td>\n",
       "    </tr>\n",
       "    <tr>\n",
       "      <th>2</th>\n",
       "      <td>3</td>\n",
       "      <td>46</td>\n",
       "      <td>Masculino</td>\n",
       "      <td>177.281966</td>\n",
       "      <td>80.687562</td>\n",
       "      <td>25.673050</td>\n",
       "      <td>25.673050</td>\n",
       "      <td>77.019151</td>\n",
       "      <td>25.587429</td>\n",
       "      <td>90.295030</td>\n",
       "      <td>...</td>\n",
       "      <td>Alto</td>\n",
       "      <td>4</td>\n",
       "      <td>Moderado</td>\n",
       "      <td>Não</td>\n",
       "      <td>Não</td>\n",
       "      <td>0</td>\n",
       "      <td>1.0</td>\n",
       "      <td>5.5</td>\n",
       "      <td>5.423737</td>\n",
       "      <td>Saudável</td>\n",
       "    </tr>\n",
       "    <tr>\n",
       "      <th>3</th>\n",
       "      <td>4</td>\n",
       "      <td>32</td>\n",
       "      <td>Feminino</td>\n",
       "      <td>172.101255</td>\n",
       "      <td>63.142868</td>\n",
       "      <td>21.318480</td>\n",
       "      <td>21.318480</td>\n",
       "      <td>63.955440</td>\n",
       "      <td>21.177109</td>\n",
       "      <td>100.504211</td>\n",
       "      <td>...</td>\n",
       "      <td>Alto</td>\n",
       "      <td>1</td>\n",
       "      <td>Nenhum</td>\n",
       "      <td>Não</td>\n",
       "      <td>Sim</td>\n",
       "      <td>0</td>\n",
       "      <td>1.0</td>\n",
       "      <td>5.5</td>\n",
       "      <td>8.388611</td>\n",
       "      <td>Saudável</td>\n",
       "    </tr>\n",
       "    <tr>\n",
       "      <th>4</th>\n",
       "      <td>5</td>\n",
       "      <td>60</td>\n",
       "      <td>Feminino</td>\n",
       "      <td>163.608816</td>\n",
       "      <td>40.000000</td>\n",
       "      <td>14.943302</td>\n",
       "      <td>14.943302</td>\n",
       "      <td>44.829907</td>\n",
       "      <td>14.844299</td>\n",
       "      <td>69.021150</td>\n",
       "      <td>...</td>\n",
       "      <td>Alto</td>\n",
       "      <td>1</td>\n",
       "      <td>Alto</td>\n",
       "      <td>Sim</td>\n",
       "      <td>Sim</td>\n",
       "      <td>0</td>\n",
       "      <td>1.0</td>\n",
       "      <td>5.5</td>\n",
       "      <td>0.332622</td>\n",
       "      <td>Saudável</td>\n",
       "    </tr>\n",
       "    <tr>\n",
       "      <th>...</th>\n",
       "      <td>...</td>\n",
       "      <td>...</td>\n",
       "      <td>...</td>\n",
       "      <td>...</td>\n",
       "      <td>...</td>\n",
       "      <td>...</td>\n",
       "      <td>...</td>\n",
       "      <td>...</td>\n",
       "      <td>...</td>\n",
       "      <td>...</td>\n",
       "      <td>...</td>\n",
       "      <td>...</td>\n",
       "      <td>...</td>\n",
       "      <td>...</td>\n",
       "      <td>...</td>\n",
       "      <td>...</td>\n",
       "      <td>...</td>\n",
       "      <td>...</td>\n",
       "      <td>...</td>\n",
       "      <td>...</td>\n",
       "      <td>...</td>\n",
       "    </tr>\n",
       "    <tr>\n",
       "      <th>99995</th>\n",
       "      <td>99996</td>\n",
       "      <td>53</td>\n",
       "      <td>Masculino</td>\n",
       "      <td>177.202253</td>\n",
       "      <td>54.303671</td>\n",
       "      <td>17.293811</td>\n",
       "      <td>17.293811</td>\n",
       "      <td>51.881433</td>\n",
       "      <td>17.227616</td>\n",
       "      <td>88.740028</td>\n",
       "      <td>...</td>\n",
       "      <td>Moderado</td>\n",
       "      <td>1</td>\n",
       "      <td>Alto</td>\n",
       "      <td>Não</td>\n",
       "      <td>Sim</td>\n",
       "      <td>0</td>\n",
       "      <td>1.0</td>\n",
       "      <td>5.5</td>\n",
       "      <td>3.477124</td>\n",
       "      <td>Saudável</td>\n",
       "    </tr>\n",
       "    <tr>\n",
       "      <th>99996</th>\n",
       "      <td>99997</td>\n",
       "      <td>22</td>\n",
       "      <td>Masculino</td>\n",
       "      <td>180.802297</td>\n",
       "      <td>40.033853</td>\n",
       "      <td>12.246712</td>\n",
       "      <td>12.246712</td>\n",
       "      <td>36.740135</td>\n",
       "      <td>12.159473</td>\n",
       "      <td>103.659560</td>\n",
       "      <td>...</td>\n",
       "      <td>Moderado</td>\n",
       "      <td>5</td>\n",
       "      <td>Nenhum</td>\n",
       "      <td>Sim</td>\n",
       "      <td>Não</td>\n",
       "      <td>0</td>\n",
       "      <td>1.0</td>\n",
       "      <td>5.5</td>\n",
       "      <td>1.609656</td>\n",
       "      <td>Saudável</td>\n",
       "    </tr>\n",
       "    <tr>\n",
       "      <th>99997</th>\n",
       "      <td>99998</td>\n",
       "      <td>37</td>\n",
       "      <td>Masculino</td>\n",
       "      <td>185.540653</td>\n",
       "      <td>84.536847</td>\n",
       "      <td>24.556580</td>\n",
       "      <td>24.556580</td>\n",
       "      <td>73.669741</td>\n",
       "      <td>24.172944</td>\n",
       "      <td>98.920422</td>\n",
       "      <td>...</td>\n",
       "      <td>Baixo</td>\n",
       "      <td>5</td>\n",
       "      <td>Nenhum</td>\n",
       "      <td>Não</td>\n",
       "      <td>Não</td>\n",
       "      <td>0</td>\n",
       "      <td>1.0</td>\n",
       "      <td>5.5</td>\n",
       "      <td>-9.736463</td>\n",
       "      <td>Saudável</td>\n",
       "    </tr>\n",
       "    <tr>\n",
       "      <th>99998</th>\n",
       "      <td>99999</td>\n",
       "      <td>72</td>\n",
       "      <td>Feminino</td>\n",
       "      <td>181.796786</td>\n",
       "      <td>56.923335</td>\n",
       "      <td>17.223362</td>\n",
       "      <td>17.223362</td>\n",
       "      <td>51.670087</td>\n",
       "      <td>17.715475</td>\n",
       "      <td>54.559079</td>\n",
       "      <td>...</td>\n",
       "      <td>Baixo</td>\n",
       "      <td>4</td>\n",
       "      <td>Alto</td>\n",
       "      <td>Sim</td>\n",
       "      <td>Sim</td>\n",
       "      <td>0</td>\n",
       "      <td>1.0</td>\n",
       "      <td>5.5</td>\n",
       "      <td>-4.779376</td>\n",
       "      <td>Saudável</td>\n",
       "    </tr>\n",
       "    <tr>\n",
       "      <th>99999</th>\n",
       "      <td>100000</td>\n",
       "      <td>37</td>\n",
       "      <td>Masculino</td>\n",
       "      <td>175.716378</td>\n",
       "      <td>93.017286</td>\n",
       "      <td>30.125841</td>\n",
       "      <td>30.125841</td>\n",
       "      <td>90.377523</td>\n",
       "      <td>30.254072</td>\n",
       "      <td>70.743851</td>\n",
       "      <td>...</td>\n",
       "      <td>Alto</td>\n",
       "      <td>4</td>\n",
       "      <td>Moderado</td>\n",
       "      <td>Sim</td>\n",
       "      <td>Não</td>\n",
       "      <td>0</td>\n",
       "      <td>1.0</td>\n",
       "      <td>5.5</td>\n",
       "      <td>-2.010351</td>\n",
       "      <td>Doente</td>\n",
       "    </tr>\n",
       "  </tbody>\n",
       "</table>\n",
       "<p>100000 rows × 48 columns</p>\n",
       "</div>"
      ]
     },
     "metadata": {
      "application/vnd.databricks.v1+output": {
       "addedWidgets": {},
       "arguments": {},
       "data": "<div>\n<style scoped>\n    .dataframe tbody tr th:only-of-type {\n        vertical-align: middle;\n    }\n\n    .dataframe tbody tr th {\n        vertical-align: top;\n    }\n\n    .dataframe thead th {\n        text-align: right;\n    }\n</style>\n<table border=\"1\" class=\"dataframe\">\n  <thead>\n    <tr style=\"text-align: right;\">\n      <th></th>\n      <th>codigo_pesquisa</th>\n      <th>idade</th>\n      <th>genero</th>\n      <th>altura</th>\n      <th>peso</th>\n      <th>imc</th>\n      <th>imc_estimado</th>\n      <th>imc_normalizado</th>\n      <th>imc_corrigido</th>\n      <th>circunferencia_cintura</th>\n      <th>...</th>\n      <th>exposicao_sol</th>\n      <th>refeicoes_dia</th>\n      <th>consumo_cafeina</th>\n      <th>historico_familiar</th>\n      <th>possui_pet</th>\n      <th>nivel_eletrolitos</th>\n      <th>marcador_genetico</th>\n      <th>pontuacao_risco_ambiental</th>\n      <th>dosagem_suplementos_diaria</th>\n      <th>alvo</th>\n    </tr>\n  </thead>\n  <tbody>\n    <tr>\n      <th>0</th>\n      <td>1</td>\n      <td>56</td>\n      <td>Masculino</td>\n      <td>173.416872</td>\n      <td>56.886640</td>\n      <td>18.915925</td>\n      <td>18.915925</td>\n      <td>56.747776</td>\n      <td>18.989117</td>\n      <td>72.165130</td>\n      <td>...</td>\n      <td>Alto</td>\n      <td>5</td>\n      <td>Moderado</td>\n      <td>Não</td>\n      <td>Sim</td>\n      <td>0</td>\n      <td>1.0</td>\n      <td>5.5</td>\n      <td>-2.275502</td>\n      <td>Saudável</td>\n    </tr>\n    <tr>\n      <th>1</th>\n      <td>2</td>\n      <td>69</td>\n      <td>Feminino</td>\n      <td>163.207380</td>\n      <td>97.799859</td>\n      <td>36.716278</td>\n      <td>36.716278</td>\n      <td>110.148833</td>\n      <td>36.511417</td>\n      <td>85.598889</td>\n      <td>...</td>\n      <td>Alto</td>\n      <td>5</td>\n      <td>Alto</td>\n      <td>Sim</td>\n      <td>Não</td>\n      <td>0</td>\n      <td>1.0</td>\n      <td>5.5</td>\n      <td>6.239340</td>\n      <td>Saudável</td>\n    </tr>\n    <tr>\n      <th>2</th>\n      <td>3</td>\n      <td>46</td>\n      <td>Masculino</td>\n      <td>177.281966</td>\n      <td>80.687562</td>\n      <td>25.673050</td>\n      <td>25.673050</td>\n      <td>77.019151</td>\n      <td>25.587429</td>\n      <td>90.295030</td>\n      <td>...</td>\n      <td>Alto</td>\n      <td>4</td>\n      <td>Moderado</td>\n      <td>Não</td>\n      <td>Não</td>\n      <td>0</td>\n      <td>1.0</td>\n      <td>5.5</td>\n      <td>5.423737</td>\n      <td>Saudável</td>\n    </tr>\n    <tr>\n      <th>3</th>\n      <td>4</td>\n      <td>32</td>\n      <td>Feminino</td>\n      <td>172.101255</td>\n      <td>63.142868</td>\n      <td>21.318480</td>\n      <td>21.318480</td>\n      <td>63.955440</td>\n      <td>21.177109</td>\n      <td>100.504211</td>\n      <td>...</td>\n      <td>Alto</td>\n      <td>1</td>\n      <td>Nenhum</td>\n      <td>Não</td>\n      <td>Sim</td>\n      <td>0</td>\n      <td>1.0</td>\n      <td>5.5</td>\n      <td>8.388611</td>\n      <td>Saudável</td>\n    </tr>\n    <tr>\n      <th>4</th>\n      <td>5</td>\n      <td>60</td>\n      <td>Feminino</td>\n      <td>163.608816</td>\n      <td>40.000000</td>\n      <td>14.943302</td>\n      <td>14.943302</td>\n      <td>44.829907</td>\n      <td>14.844299</td>\n      <td>69.021150</td>\n      <td>...</td>\n      <td>Alto</td>\n      <td>1</td>\n      <td>Alto</td>\n      <td>Sim</td>\n      <td>Sim</td>\n      <td>0</td>\n      <td>1.0</td>\n      <td>5.5</td>\n      <td>0.332622</td>\n      <td>Saudável</td>\n    </tr>\n    <tr>\n      <th>...</th>\n      <td>...</td>\n      <td>...</td>\n      <td>...</td>\n      <td>...</td>\n      <td>...</td>\n      <td>...</td>\n      <td>...</td>\n      <td>...</td>\n      <td>...</td>\n      <td>...</td>\n      <td>...</td>\n      <td>...</td>\n      <td>...</td>\n      <td>...</td>\n      <td>...</td>\n      <td>...</td>\n      <td>...</td>\n      <td>...</td>\n      <td>...</td>\n      <td>...</td>\n      <td>...</td>\n    </tr>\n    <tr>\n      <th>99995</th>\n      <td>99996</td>\n      <td>53</td>\n      <td>Masculino</td>\n      <td>177.202253</td>\n      <td>54.303671</td>\n      <td>17.293811</td>\n      <td>17.293811</td>\n      <td>51.881433</td>\n      <td>17.227616</td>\n      <td>88.740028</td>\n      <td>...</td>\n      <td>Moderado</td>\n      <td>1</td>\n      <td>Alto</td>\n      <td>Não</td>\n      <td>Sim</td>\n      <td>0</td>\n      <td>1.0</td>\n      <td>5.5</td>\n      <td>3.477124</td>\n      <td>Saudável</td>\n    </tr>\n    <tr>\n      <th>99996</th>\n      <td>99997</td>\n      <td>22</td>\n      <td>Masculino</td>\n      <td>180.802297</td>\n      <td>40.033853</td>\n      <td>12.246712</td>\n      <td>12.246712</td>\n      <td>36.740135</td>\n      <td>12.159473</td>\n      <td>103.659560</td>\n      <td>...</td>\n      <td>Moderado</td>\n      <td>5</td>\n      <td>Nenhum</td>\n      <td>Sim</td>\n      <td>Não</td>\n      <td>0</td>\n      <td>1.0</td>\n      <td>5.5</td>\n      <td>1.609656</td>\n      <td>Saudável</td>\n    </tr>\n    <tr>\n      <th>99997</th>\n      <td>99998</td>\n      <td>37</td>\n      <td>Masculino</td>\n      <td>185.540653</td>\n      <td>84.536847</td>\n      <td>24.556580</td>\n      <td>24.556580</td>\n      <td>73.669741</td>\n      <td>24.172944</td>\n      <td>98.920422</td>\n      <td>...</td>\n      <td>Baixo</td>\n      <td>5</td>\n      <td>Nenhum</td>\n      <td>Não</td>\n      <td>Não</td>\n      <td>0</td>\n      <td>1.0</td>\n      <td>5.5</td>\n      <td>-9.736463</td>\n      <td>Saudável</td>\n    </tr>\n    <tr>\n      <th>99998</th>\n      <td>99999</td>\n      <td>72</td>\n      <td>Feminino</td>\n      <td>181.796786</td>\n      <td>56.923335</td>\n      <td>17.223362</td>\n      <td>17.223362</td>\n      <td>51.670087</td>\n      <td>17.715475</td>\n      <td>54.559079</td>\n      <td>...</td>\n      <td>Baixo</td>\n      <td>4</td>\n      <td>Alto</td>\n      <td>Sim</td>\n      <td>Sim</td>\n      <td>0</td>\n      <td>1.0</td>\n      <td>5.5</td>\n      <td>-4.779376</td>\n      <td>Saudável</td>\n    </tr>\n    <tr>\n      <th>99999</th>\n      <td>100000</td>\n      <td>37</td>\n      <td>Masculino</td>\n      <td>175.716378</td>\n      <td>93.017286</td>\n      <td>30.125841</td>\n      <td>30.125841</td>\n      <td>90.377523</td>\n      <td>30.254072</td>\n      <td>70.743851</td>\n      <td>...</td>\n      <td>Alto</td>\n      <td>4</td>\n      <td>Moderado</td>\n      <td>Sim</td>\n      <td>Não</td>\n      <td>0</td>\n      <td>1.0</td>\n      <td>5.5</td>\n      <td>-2.010351</td>\n      <td>Doente</td>\n    </tr>\n  </tbody>\n</table>\n<p>100000 rows × 48 columns</p>\n</div>",
       "datasetInfos": [],
       "metadata": {},
       "removedWidgets": [],
       "textData": null,
       "type": "htmlSandbox"
      }
     },
     "output_type": "display_data"
    }
   ],
   "source": [
    "df"
   ]
  },
  {
   "cell_type": "code",
   "execution_count": 0,
   "metadata": {
    "application/vnd.databricks.v1+cell": {
     "cellMetadata": {
      "byteLimit": 2048000,
      "rowLimit": 10000
     },
     "inputWidgets": {},
     "nuid": "3a826663-d17d-4d32-abc5-32e61feafb73",
     "showTitle": false,
     "tableResultSettingsMap": {},
     "title": ""
    }
   },
   "outputs": [
    {
     "output_type": "stream",
     "name": "stdout",
     "output_type": "stream",
     "text": [
      "Out[59]: DataFrame[]"
     ]
    }
   ],
   "source": [
    "import pyspark.pandas as ps\n",
    "\n",
    "# 1. Converter para pandas-on-Spark e depois PySpark\n",
    "df_spark_pandas = ps.from_pandas(df)\n",
    "df_spark = df_spark_pandas.to_spark()\n",
    "\n",
    "# 2. Caminho no DBFS\n",
    "output_path = \"/dbfs/FileStore/tables/df_risco_doenca_delta/\"\n",
    "\n",
    "# 3. Salvar como Delta\n",
    "df_spark.write.format(\"delta\").mode(\"overwrite\").save(output_path)\n",
    "\n",
    "# 4. Criar a tabela no catálogo\n",
    "spark.sql(f\"\"\"\n",
    "CREATE TABLE IF NOT EXISTS df_risco_doenca\n",
    "USING DELTA\n",
    "LOCATION '{output_path}'\n",
    "\"\"\")\n"
   ]
  },
  {
   "cell_type": "markdown",
   "metadata": {
    "application/vnd.databricks.v1+cell": {
     "cellMetadata": {},
     "inputWidgets": {},
     "nuid": "c109914b-cf0d-4d05-b0e8-697e7d9f8cb3",
     "showTitle": false,
     "tableResultSettingsMap": {},
     "title": ""
    }
   },
   "source": [
    "**Verificando tabela criada na nuvem**"
   ]
  },
  {
   "cell_type": "code",
   "execution_count": 0,
   "metadata": {
    "application/vnd.databricks.v1+cell": {
     "cellMetadata": {
      "byteLimit": 2048000,
      "implicitDf": true,
      "rowLimit": 10000
     },
     "inputWidgets": {},
     "nuid": "f2c64ec7-7180-428d-aa8d-c8474e31ba03",
     "showTitle": false,
     "tableResultSettingsMap": {},
     "title": ""
    }
   },
   "outputs": [
    {
     "output_type": "display_data",
     "data": {
      "text/html": [
       "<style scoped>\n",
       "  .table-result-container {\n",
       "    max-height: 300px;\n",
       "    overflow: auto;\n",
       "  }\n",
       "  table, th, td {\n",
       "    border: 1px solid black;\n",
       "    border-collapse: collapse;\n",
       "  }\n",
       "  th, td {\n",
       "    padding: 5px;\n",
       "  }\n",
       "  th {\n",
       "    text-align: left;\n",
       "  }\n",
       "</style><div class='table-result-container'><table class='table-result'><thead style='background-color: white'><tr><th>codigo_pesquisa</th><th>idade</th><th>genero</th><th>altura</th><th>peso</th><th>imc</th><th>imc_estimado</th><th>imc_normalizado</th><th>imc_corrigido</th><th>circunferencia_cintura</th><th>pressao_arterial</th><th>frequencia_cardiaca</th><th>colesterol</th><th>glicose</th><th>insulina</th><th>horas_sono</th><th>qualidade_sono</th><th>horas_trabalho</th><th>atividade_fisica</th><th>passos_diarios</th><th>consumo_calorias</th><th>consumo_acucar</th><th>consumo_alcool</th><th>nivel_tabagismo</th><th>consumo_agua</th><th>tempo_tela</th><th>nivel_estresse</th><th>pontuacao_saude_mental</th><th>apoio_saude_mental</th><th>nivel_educacional</th><th>tipo_emprego</th><th>ocupacao</th><th>renda</th><th>tipo_dieta</th><th>tipo_exercicio</th><th>uso_dispositivos</th><th>acesso_saude</th><th>seguro_saude</th><th>exposicao_sol</th><th>refeicoes_dia</th><th>consumo_cafeina</th><th>historico_familiar</th><th>possui_pet</th><th>nivel_eletrolitos</th><th>marcador_genetico</th><th>pontuacao_risco_ambiental</th><th>dosagem_suplementos_diaria</th><th>alvo</th></tr></thead><tbody><tr><td>1</td><td>56</td><td>Masculino</td><td>173.4168716604414</td><td>56.8866401775079</td><td>18.915925255480552</td><td>18.915925255480552</td><td>56.747775766441656</td><td>18.98911653145425</td><td>72.16512975695245</td><td>118.26425414158744</td><td>60.74982466991912</td><td>214.580522965354</td><td>103.00817577596963</td><td>14.983414245137542</td><td>6.475884512618288</td><td>Razoável</td><td>7.671313094931044</td><td>0.3569183768946531</td><td>13320.942594565737</td><td>2673.5469599180037</td><td>44.47688704561938</td><td>Não informado</td><td>Não fumante</td><td>1.6942618676560477</td><td>5.003963399150284</td><td>2</td><td>8</td><td>Não</td><td>Doutorado</td><td>Tecnologia</td><td>Agricultor</td><td>6759.82171934488</td><td>Vegana</td><td>Musculação</td><td>Alto</td><td>Ruim</td><td>Não</td><td>Alto</td><td>5</td><td>Moderado</td><td>Não</td><td>Sim</td><td>0</td><td>1.0</td><td>5.5</td><td>-2.275502222387624</td><td>Saudável</td></tr><tr><td>2</td><td>69</td><td>Feminino</td><td>163.2073797324949</td><td>97.7998594315734</td><td>36.71627770033372</td><td>36.71627770033372</td><td>110.14883310100116</td><td>36.511417485276894</td><td>85.59888895741302</td><td>117.9179857675427</td><td>66.46369626262035</td><td>115.79400181852316</td><td>116.90513351971028</td><td>10.131597441685196</td><td>8.428410074178464</td><td>Boa</td><td>9.515198136346465</td><td>0.5682193336375545</td><td>11911.201400998543</td><td>2650.376971589561</td><td>74.66340529154911</td><td>Regularmente</td><td>Fumante leve</td><td>0.7164092282877712</td><td>5.925454894024696</td><td>3</td><td>9</td><td>Não</td><td>Ensino médio</td><td>Escritório</td><td>Engenheiro</td><td>6240.517689877877</td><td>Vegana</td><td>Cardio</td><td>Moderado</td><td>Moderado</td><td>Não</td><td>Alto</td><td>5</td><td>Alto</td><td>Sim</td><td>Não</td><td>0</td><td>1.0</td><td>5.5</td><td>6.239339862804702</td><td>Saudável</td></tr><tr><td>3</td><td>46</td><td>Masculino</td><td>177.28196611403715</td><td>80.68756161436858</td><td>25.6730503273966</td><td>25.6730503273966</td><td>77.01915098218981</td><td>25.587428622234675</td><td>90.2950303681029</td><td>123.07369770460735</td><td>76.04321195934516</td><td>138.13478709379157</td><td>89.18030247260388</td><td>14.983414245137542</td><td>5.702163561022977</td><td>Ruim</td><td>5.829852865434612</td><td>3.764406230752498</td><td>2974.035375341053</td><td>1746.7551439050685</td><td>19.70238191062364</td><td>Regularmente</td><td>Fumante intenso</td><td>2.487900372991972</td><td>4.371250478729506</td><td>0</td><td>1</td><td>Não</td><td>Mestrado</td><td>Escritório</td><td>Professor</td><td>3429.179266282261</td><td>Vegana</td><td>Cardio</td><td>Alto</td><td>Bom</td><td>Sim</td><td>Alto</td><td>4</td><td>Moderado</td><td>Não</td><td>Não</td><td>0</td><td>1.0</td><td>5.5</td><td>5.42373670944836</td><td>Saudável</td></tr><tr><td>4</td><td>32</td><td>Feminino</td><td>172.1012548417596</td><td>63.1428684594757</td><td>21.31847984943381</td><td>21.31847984943381</td><td>63.95543954830143</td><td>21.177109208164</td><td>100.50421073087789</td><td>148.17345263362137</td><td>68.78198107715338</td><td>203.01744693601</td><td>128.37579782562165</td><td>18.733179433216204</td><td>5.188316283507155</td><td>Boa</td><td>9.489693258145683</td><td>0.8894742766756227</td><td>5321.5394974562105</td><td>2034.19324193032</td><td>82.5800497341889</td><td>Ocasionalmente</td><td>Fumante intenso</td><td>2.6433346547336924</td><td>4.116064178605068</td><td>10</td><td>4</td><td>Não</td><td>Mestrado</td><td>Trabalho manual</td><td>Professor</td><td>2618.5035342537885</td><td>Vegetariana</td><td>Misto</td><td>Baixo</td><td>Moderado</td><td>Não</td><td>Alto</td><td>1</td><td>Nenhum</td><td>Não</td><td>Sim</td><td>0</td><td>1.0</td><td>5.5</td><td>8.388610633752585</td><td>Saudável</td></tr><tr><td>5</td><td>60</td><td>Feminino</td><td>163.60881633545077</td><td>40.0</td><td>14.943302430485906</td><td>14.943302430485906</td><td>44.82990729145772</td><td>14.844298963075833</td><td>69.02114997109672</td><td>150.61318054717714</td><td>92.33535801725414</td><td>200.4124387305447</td><td>94.81333196137352</td><td>16.038701475591246</td><td>7.912513555454738</td><td>Boa</td><td>7.275449516546359</td><td>2.901608133793577</td><td>9791.376712247811</td><td>2386.210256641631</td><td>45.96132157630777</td><td>Não informado</td><td>Fumante intenso</td><td>1.9683928315390615</td><td>3.180087167909646</td><td>9</td><td>7</td><td>Sim</td><td>Mestrado</td><td>Desempregado</td><td>Médico</td><td>3662.086276240797</td><td>Vegana</td><td>Nenhum</td><td>Baixo</td><td>Moderado</td><td>Sim</td><td>Alto</td><td>1</td><td>Alto</td><td>Sim</td><td>Sim</td><td>0</td><td>1.0</td><td>5.5</td><td>0.3326224159154183</td><td>Saudável</td></tr><tr><td>6</td><td>25</td><td>Masculino</td><td>186.7880252732072</td><td>55.27611085088231</td><td>15.843072791083904</td><td>15.843072791083904</td><td>47.52921837325172</td><td>16.087834828278112</td><td>86.59192264625422</td><td>118.72297105773087</td><td>51.9714849556493</td><td>165.65917860036717</td><td>99.49676937798908</td><td>14.983414245137542</td><td>10.065352160926183</td><td>Ruim</td><td>8.536499626845965</td><td>3.581308378856176</td><td>9221.120390184726</td><td>2565.7319826822927</td><td>71.99967869087729</td><td>Ocasionalmente</td><td>Fumante intenso</td><td>2.115213037196976</td><td>5.878847460200119</td><td>7</td><td>6</td><td>Não</td><td>Ensino médio</td><td>Escritório</td><td>Professor</td><td>3667.151535987221</td><td>Vegetariana</td><td>Nenhum</td><td>Baixo</td><td>Moderado</td><td>Sim</td><td>Alto</td><td>4</td><td>Nenhum</td><td>Sim</td><td>Sim</td><td>0</td><td>1.0</td><td>5.5</td><td>-8.98546454502892</td><td>Saudável</td></tr><tr><td>7</td><td>78</td><td>Feminino</td><td>166.16473305813204</td><td>65.03521226925088</td><td>23.554335335505847</td><td>23.554335335505847</td><td>70.66300600651755</td><td>23.452755305391165</td><td>67.83837352118634</td><td>102.14175652557826</td><td>70.47263123112891</td><td>245.8011100041309</td><td>91.8210001509742</td><td>15.583876037735411</td><td>4.342973344880555</td><td>Excelente</td><td>6.206772270273728</td><td>0.294640343137913</td><td>7968.302175639767</td><td>1868.2037853193735</td><td>53.83696025675894</td><td>Ocasionalmente</td><td>Fumante intenso</td><td>1.704179577751229</td><td>4.418494437438125</td><td>7</td><td>1</td><td>Sim</td><td>Graduação</td><td>Desempregado</td><td>Engenheiro</td><td>3898.829196477855</td><td>Vegetariana</td><td>Musculação</td><td>Moderado</td><td>Ruim</td><td>Sim</td><td>Alto</td><td>2</td><td>Nenhum</td><td>Não</td><td>Não</td><td>0</td><td>Desconhecido</td><td>5.5</td><td>-6.296536141985447</td><td>Saudável</td></tr><tr><td>8</td><td>38</td><td>Feminino</td><td>163.78399486661826</td><td>47.75612536646693</td><td>17.80271190997033</td><td>17.80271190997033</td><td>53.408135729911</td><td>17.65478123299399</td><td>73.07157447057828</td><td>136.79024272962477</td><td>65.79131482796686</td><td>157.51934448711728</td><td>106.46641356515192</td><td>12.736924991872163</td><td>6.659163880399913</td><td>Ruim</td><td>9.1817215961884</td><td>1.7839203865642428</td><td>3606.509507734447</td><td>1885.1429229077423</td><td>73.71603219640146</td><td>Nenhum</td><td>Não fumante</td><td>1.5753056808232793</td><td>8.298020679980546</td><td>7</td><td>2</td><td>Não</td><td>Graduação</td><td>Tecnologia</td><td>Agricultor</td><td>3360.848317937972</td><td>Onívora</td><td>Musculação</td><td>Alto</td><td>Moderado</td><td>Sim</td><td>Baixo</td><td>3</td><td>Moderado</td><td>Não</td><td>Sim</td><td>0</td><td>1.0</td><td>5.5</td><td>7.87526606056964</td><td>Saudável</td></tr><tr><td>9</td><td>56</td><td>Feminino</td><td>165.71646026449875</td><td>47.25710862198928</td><td>17.208216050741886</td><td>17.208216050741886</td><td>51.62464815222566</td><td>17.19971160475349</td><td>46.67520793582448</td><td>133.53630015470338</td><td>78.20523674330214</td><td>160.14878278174174</td><td>78.77004294336767</td><td>14.983414245137542</td><td>8.717905755891035</td><td>Ruim</td><td>11.461928890997989</td><td>0.8387775155400177</td><td>5199.027337982914</td><td>1642.1941893984758</td><td>84.43887804206028</td><td>Ocasionalmente</td><td>Fumante leve</td><td>2.337445623062915</td><td>0.7073355679761049</td><td>2</td><td>9</td><td>Sim</td><td>Doutorado</td><td>Escritório</td><td>Engenheiro</td><td>5366.332771653088</td><td>Vegana</td><td>Nenhum</td><td>Alto</td><td>Moderado</td><td>Sim</td><td>Alto</td><td>2</td><td>Moderado</td><td>Não</td><td>Não</td><td>0</td><td>Desconhecido</td><td>5.5</td><td>-8.055654131575707</td><td>Saudável</td></tr><tr><td>10</td><td>75</td><td>Masculino</td><td>151.31088778743387</td><td>65.96659085995387</td><td>28.81268170420411</td><td>28.81268170420411</td><td>86.43804511261233</td><td>29.0880489000083</td><td>94.29436786312849</td><td>121.7616021826016</td><td>90.47023197217624</td><td>192.11179833145533</td><td>130.68135641338708</td><td>14.983414245137542</td><td>8.18490512908863</td><td>Razoável</td><td>4.6382671219040725</td><td>2.3413772286564503</td><td>7436.828641052964</td><td>2508.233129197921</td><td>58.93760277253637</td><td>Nenhum</td><td>Não fumante</td><td>3.1183642086231127</td><td>2.1799868345476527</td><td>10</td><td>9</td><td>Não</td><td>Graduação</td><td>Trabalho manual</td><td>Motorista</td><td>4472.934549185771</td><td>Onívora</td><td>Musculação</td><td>Alto</td><td>Moderado</td><td>Não</td><td>Alto</td><td>1</td><td>Alto</td><td>Sim</td><td>Não</td><td>0</td><td>1.0</td><td>5.5</td><td>-3.0351616137022117</td><td>Saudável</td></tr></tbody></table></div>"
      ]
     },
     "metadata": {
      "application/vnd.databricks.v1+output": {
       "addedWidgets": {},
       "aggData": [],
       "aggError": "",
       "aggOverflow": false,
       "aggSchema": [],
       "aggSeriesLimitReached": false,
       "aggType": "",
       "arguments": {},
       "columnCustomDisplayInfos": {},
       "data": [
        [
         1,
         56,
         "Masculino",
         173.4168716604414,
         56.8866401775079,
         18.915925255480552,
         18.915925255480552,
         56.747775766441656,
         18.98911653145425,
         72.16512975695245,
         118.26425414158744,
         60.74982466991912,
         214.580522965354,
         103.00817577596963,
         14.983414245137542,
         6.475884512618288,
         "Razoável",
         7.671313094931044,
         0.3569183768946531,
         13320.942594565737,
         2673.5469599180037,
         44.47688704561938,
         "Não informado",
         "Não fumante",
         1.6942618676560477,
         5.003963399150284,
         2,
         8,
         "Não",
         "Doutorado",
         "Tecnologia",
         "Agricultor",
         6759.82171934488,
         "Vegana",
         "Musculação",
         "Alto",
         "Ruim",
         "Não",
         "Alto",
         5,
         "Moderado",
         "Não",
         "Sim",
         0,
         "1.0",
         5.5,
         -2.275502222387624,
         "Saudável"
        ],
        [
         2,
         69,
         "Feminino",
         163.2073797324949,
         97.7998594315734,
         36.71627770033372,
         36.71627770033372,
         110.14883310100116,
         36.511417485276894,
         85.59888895741302,
         117.9179857675427,
         66.46369626262035,
         115.79400181852316,
         116.90513351971028,
         10.131597441685196,
         8.428410074178464,
         "Boa",
         9.515198136346465,
         0.5682193336375545,
         11911.201400998543,
         2650.376971589561,
         74.66340529154911,
         "Regularmente",
         "Fumante leve",
         0.7164092282877712,
         5.925454894024696,
         3,
         9,
         "Não",
         "Ensino médio",
         "Escritório",
         "Engenheiro",
         6240.517689877877,
         "Vegana",
         "Cardio",
         "Moderado",
         "Moderado",
         "Não",
         "Alto",
         5,
         "Alto",
         "Sim",
         "Não",
         0,
         "1.0",
         5.5,
         6.239339862804702,
         "Saudável"
        ],
        [
         3,
         46,
         "Masculino",
         177.28196611403715,
         80.68756161436858,
         25.6730503273966,
         25.6730503273966,
         77.01915098218981,
         25.587428622234675,
         90.2950303681029,
         123.07369770460735,
         76.04321195934516,
         138.13478709379157,
         89.18030247260388,
         14.983414245137542,
         5.702163561022977,
         "Ruim",
         5.829852865434612,
         3.764406230752498,
         2974.035375341053,
         1746.7551439050685,
         19.70238191062364,
         "Regularmente",
         "Fumante intenso",
         2.487900372991972,
         4.371250478729506,
         0,
         1,
         "Não",
         "Mestrado",
         "Escritório",
         "Professor",
         3429.179266282261,
         "Vegana",
         "Cardio",
         "Alto",
         "Bom",
         "Sim",
         "Alto",
         4,
         "Moderado",
         "Não",
         "Não",
         0,
         "1.0",
         5.5,
         5.42373670944836,
         "Saudável"
        ],
        [
         4,
         32,
         "Feminino",
         172.1012548417596,
         63.1428684594757,
         21.31847984943381,
         21.31847984943381,
         63.95543954830143,
         21.177109208164,
         100.50421073087789,
         148.17345263362137,
         68.78198107715338,
         203.01744693601,
         128.37579782562165,
         18.733179433216204,
         5.188316283507155,
         "Boa",
         9.489693258145683,
         0.8894742766756227,
         5321.5394974562105,
         2034.19324193032,
         82.5800497341889,
         "Ocasionalmente",
         "Fumante intenso",
         2.6433346547336924,
         4.116064178605068,
         10,
         4,
         "Não",
         "Mestrado",
         "Trabalho manual",
         "Professor",
         2618.5035342537885,
         "Vegetariana",
         "Misto",
         "Baixo",
         "Moderado",
         "Não",
         "Alto",
         1,
         "Nenhum",
         "Não",
         "Sim",
         0,
         "1.0",
         5.5,
         8.388610633752585,
         "Saudável"
        ],
        [
         5,
         60,
         "Feminino",
         163.60881633545077,
         40.0,
         14.943302430485906,
         14.943302430485906,
         44.82990729145772,
         14.844298963075833,
         69.02114997109672,
         150.61318054717714,
         92.33535801725414,
         200.4124387305447,
         94.81333196137352,
         16.038701475591246,
         7.912513555454738,
         "Boa",
         7.275449516546359,
         2.901608133793577,
         9791.376712247811,
         2386.210256641631,
         45.96132157630777,
         "Não informado",
         "Fumante intenso",
         1.9683928315390615,
         3.180087167909646,
         9,
         7,
         "Sim",
         "Mestrado",
         "Desempregado",
         "Médico",
         3662.086276240797,
         "Vegana",
         "Nenhum",
         "Baixo",
         "Moderado",
         "Sim",
         "Alto",
         1,
         "Alto",
         "Sim",
         "Sim",
         0,
         "1.0",
         5.5,
         0.3326224159154183,
         "Saudável"
        ],
        [
         6,
         25,
         "Masculino",
         186.7880252732072,
         55.27611085088231,
         15.843072791083904,
         15.843072791083904,
         47.52921837325172,
         16.087834828278112,
         86.59192264625422,
         118.72297105773087,
         51.9714849556493,
         165.65917860036717,
         99.49676937798908,
         14.983414245137542,
         10.065352160926183,
         "Ruim",
         8.536499626845965,
         3.581308378856176,
         9221.120390184726,
         2565.7319826822927,
         71.99967869087729,
         "Ocasionalmente",
         "Fumante intenso",
         2.115213037196976,
         5.878847460200119,
         7,
         6,
         "Não",
         "Ensino médio",
         "Escritório",
         "Professor",
         3667.151535987221,
         "Vegetariana",
         "Nenhum",
         "Baixo",
         "Moderado",
         "Sim",
         "Alto",
         4,
         "Nenhum",
         "Sim",
         "Sim",
         0,
         "1.0",
         5.5,
         -8.98546454502892,
         "Saudável"
        ],
        [
         7,
         78,
         "Feminino",
         166.16473305813204,
         65.03521226925088,
         23.554335335505847,
         23.554335335505847,
         70.66300600651755,
         23.452755305391165,
         67.83837352118634,
         102.14175652557826,
         70.47263123112891,
         245.8011100041309,
         91.8210001509742,
         15.583876037735411,
         4.342973344880555,
         "Excelente",
         6.206772270273728,
         0.294640343137913,
         7968.302175639767,
         1868.2037853193735,
         53.83696025675894,
         "Ocasionalmente",
         "Fumante intenso",
         1.704179577751229,
         4.418494437438125,
         7,
         1,
         "Sim",
         "Graduação",
         "Desempregado",
         "Engenheiro",
         3898.829196477855,
         "Vegetariana",
         "Musculação",
         "Moderado",
         "Ruim",
         "Sim",
         "Alto",
         2,
         "Nenhum",
         "Não",
         "Não",
         0,
         "Desconhecido",
         5.5,
         -6.296536141985447,
         "Saudável"
        ],
        [
         8,
         38,
         "Feminino",
         163.78399486661826,
         47.75612536646693,
         17.80271190997033,
         17.80271190997033,
         53.408135729911,
         17.65478123299399,
         73.07157447057828,
         136.79024272962477,
         65.79131482796686,
         157.51934448711728,
         106.46641356515192,
         12.736924991872163,
         6.659163880399913,
         "Ruim",
         9.1817215961884,
         1.7839203865642428,
         3606.509507734447,
         1885.1429229077423,
         73.71603219640146,
         "Nenhum",
         "Não fumante",
         1.5753056808232793,
         8.298020679980546,
         7,
         2,
         "Não",
         "Graduação",
         "Tecnologia",
         "Agricultor",
         3360.848317937972,
         "Onívora",
         "Musculação",
         "Alto",
         "Moderado",
         "Sim",
         "Baixo",
         3,
         "Moderado",
         "Não",
         "Sim",
         0,
         "1.0",
         5.5,
         7.87526606056964,
         "Saudável"
        ],
        [
         9,
         56,
         "Feminino",
         165.71646026449875,
         47.25710862198928,
         17.208216050741886,
         17.208216050741886,
         51.62464815222566,
         17.19971160475349,
         46.67520793582448,
         133.53630015470338,
         78.20523674330214,
         160.14878278174174,
         78.77004294336767,
         14.983414245137542,
         8.717905755891035,
         "Ruim",
         11.461928890997989,
         0.8387775155400177,
         5199.027337982914,
         1642.1941893984758,
         84.43887804206028,
         "Ocasionalmente",
         "Fumante leve",
         2.337445623062915,
         0.7073355679761049,
         2,
         9,
         "Sim",
         "Doutorado",
         "Escritório",
         "Engenheiro",
         5366.332771653088,
         "Vegana",
         "Nenhum",
         "Alto",
         "Moderado",
         "Sim",
         "Alto",
         2,
         "Moderado",
         "Não",
         "Não",
         0,
         "Desconhecido",
         5.5,
         -8.055654131575707,
         "Saudável"
        ],
        [
         10,
         75,
         "Masculino",
         151.31088778743387,
         65.96659085995387,
         28.81268170420411,
         28.81268170420411,
         86.43804511261233,
         29.0880489000083,
         94.29436786312849,
         121.7616021826016,
         90.47023197217624,
         192.11179833145533,
         130.68135641338708,
         14.983414245137542,
         8.18490512908863,
         "Razoável",
         4.6382671219040725,
         2.3413772286564503,
         7436.828641052964,
         2508.233129197921,
         58.93760277253637,
         "Nenhum",
         "Não fumante",
         3.1183642086231127,
         2.1799868345476527,
         10,
         9,
         "Não",
         "Graduação",
         "Trabalho manual",
         "Motorista",
         4472.934549185771,
         "Onívora",
         "Musculação",
         "Alto",
         "Moderado",
         "Não",
         "Alto",
         1,
         "Alto",
         "Sim",
         "Não",
         0,
         "1.0",
         5.5,
         -3.0351616137022117,
         "Saudável"
        ]
       ],
       "datasetInfos": [],
       "dbfsResultPath": null,
       "isJsonSchema": true,
       "metadata": {},
       "overflow": false,
       "plotOptions": {
        "customPlotOptions": {},
        "displayType": "table",
        "pivotAggregation": null,
        "pivotColumns": null,
        "xColumns": null,
        "yColumns": null
       },
       "removedWidgets": [],
       "schema": [
        {
         "metadata": "{}",
         "name": "codigo_pesquisa",
         "type": "\"long\""
        },
        {
         "metadata": "{}",
         "name": "idade",
         "type": "\"long\""
        },
        {
         "metadata": "{}",
         "name": "genero",
         "type": "\"string\""
        },
        {
         "metadata": "{}",
         "name": "altura",
         "type": "\"double\""
        },
        {
         "metadata": "{}",
         "name": "peso",
         "type": "\"double\""
        },
        {
         "metadata": "{}",
         "name": "imc",
         "type": "\"double\""
        },
        {
         "metadata": "{}",
         "name": "imc_estimado",
         "type": "\"double\""
        },
        {
         "metadata": "{}",
         "name": "imc_normalizado",
         "type": "\"double\""
        },
        {
         "metadata": "{}",
         "name": "imc_corrigido",
         "type": "\"double\""
        },
        {
         "metadata": "{}",
         "name": "circunferencia_cintura",
         "type": "\"double\""
        },
        {
         "metadata": "{}",
         "name": "pressao_arterial",
         "type": "\"double\""
        },
        {
         "metadata": "{}",
         "name": "frequencia_cardiaca",
         "type": "\"double\""
        },
        {
         "metadata": "{}",
         "name": "colesterol",
         "type": "\"double\""
        },
        {
         "metadata": "{}",
         "name": "glicose",
         "type": "\"double\""
        },
        {
         "metadata": "{}",
         "name": "insulina",
         "type": "\"double\""
        },
        {
         "metadata": "{}",
         "name": "horas_sono",
         "type": "\"double\""
        },
        {
         "metadata": "{}",
         "name": "qualidade_sono",
         "type": "\"string\""
        },
        {
         "metadata": "{}",
         "name": "horas_trabalho",
         "type": "\"double\""
        },
        {
         "metadata": "{}",
         "name": "atividade_fisica",
         "type": "\"double\""
        },
        {
         "metadata": "{}",
         "name": "passos_diarios",
         "type": "\"double\""
        },
        {
         "metadata": "{}",
         "name": "consumo_calorias",
         "type": "\"double\""
        },
        {
         "metadata": "{}",
         "name": "consumo_acucar",
         "type": "\"double\""
        },
        {
         "metadata": "{}",
         "name": "consumo_alcool",
         "type": "\"string\""
        },
        {
         "metadata": "{}",
         "name": "nivel_tabagismo",
         "type": "\"string\""
        },
        {
         "metadata": "{}",
         "name": "consumo_agua",
         "type": "\"double\""
        },
        {
         "metadata": "{}",
         "name": "tempo_tela",
         "type": "\"double\""
        },
        {
         "metadata": "{}",
         "name": "nivel_estresse",
         "type": "\"long\""
        },
        {
         "metadata": "{}",
         "name": "pontuacao_saude_mental",
         "type": "\"long\""
        },
        {
         "metadata": "{}",
         "name": "apoio_saude_mental",
         "type": "\"string\""
        },
        {
         "metadata": "{}",
         "name": "nivel_educacional",
         "type": "\"string\""
        },
        {
         "metadata": "{}",
         "name": "tipo_emprego",
         "type": "\"string\""
        },
        {
         "metadata": "{}",
         "name": "ocupacao",
         "type": "\"string\""
        },
        {
         "metadata": "{}",
         "name": "renda",
         "type": "\"double\""
        },
        {
         "metadata": "{}",
         "name": "tipo_dieta",
         "type": "\"string\""
        },
        {
         "metadata": "{}",
         "name": "tipo_exercicio",
         "type": "\"string\""
        },
        {
         "metadata": "{}",
         "name": "uso_dispositivos",
         "type": "\"string\""
        },
        {
         "metadata": "{}",
         "name": "acesso_saude",
         "type": "\"string\""
        },
        {
         "metadata": "{}",
         "name": "seguro_saude",
         "type": "\"string\""
        },
        {
         "metadata": "{}",
         "name": "exposicao_sol",
         "type": "\"string\""
        },
        {
         "metadata": "{}",
         "name": "refeicoes_dia",
         "type": "\"long\""
        },
        {
         "metadata": "{}",
         "name": "consumo_cafeina",
         "type": "\"string\""
        },
        {
         "metadata": "{}",
         "name": "historico_familiar",
         "type": "\"string\""
        },
        {
         "metadata": "{}",
         "name": "possui_pet",
         "type": "\"string\""
        },
        {
         "metadata": "{}",
         "name": "nivel_eletrolitos",
         "type": "\"long\""
        },
        {
         "metadata": "{}",
         "name": "marcador_genetico",
         "type": "\"string\""
        },
        {
         "metadata": "{}",
         "name": "pontuacao_risco_ambiental",
         "type": "\"double\""
        },
        {
         "metadata": "{}",
         "name": "dosagem_suplementos_diaria",
         "type": "\"double\""
        },
        {
         "metadata": "{}",
         "name": "alvo",
         "type": "\"string\""
        }
       ],
       "type": "table"
      }
     },
     "output_type": "display_data"
    }
   ],
   "source": [
    "%sql\n",
    "select * from df_risco_doenca limit 10"
   ]
  }
 ],
 "metadata": {
  "application/vnd.databricks.v1+notebook": {
   "computePreferences": null,
   "dashboards": [],
   "environmentMetadata": {
    "base_environment": "",
    "environment_version": "1"
   },
   "inputWidgetPreferences": null,
   "language": "python",
   "notebookMetadata": {
    "mostRecentlyExecutedCommandWithImplicitDF": {
     "commandId": 2466333201974884,
     "dataframes": [
      "_sqldf"
     ]
    },
    "pythonIndentUnit": 4
   },
   "notebookName": "Risco_de_doencas_Modelagem",
   "widgets": {}
  }
 },
 "nbformat": 4,
 "nbformat_minor": 0
}